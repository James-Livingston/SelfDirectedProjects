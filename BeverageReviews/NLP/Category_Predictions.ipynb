{
 "cells": [
  {
   "cell_type": "markdown",
   "metadata": {},
   "source": [
    "# Predicting Product Categories from Text Product Reviews"
   ]
  },
  {
   "cell_type": "markdown",
   "metadata": {},
   "source": [
    "### Summary\n",
    "\n",
    "It is possible to predict the style of a beverage from the free form reviews left by users.  Using word embedding and a random forest classifier we can achieve 94% accuracy in predicting one of four categorical labels.\n",
    "\n",
    "The reviews have been cleaned of un-neccessary characters and tokenized.  These tokens were then passed to the word embedding algorithm Word2Vec.  The resulting output vectors can then be used to train a machine learning model to predict various labels.  In this example we will predict the style of a beer indicated in the dataset."
   ]
  },
  {
   "cell_type": "markdown",
   "metadata": {},
   "source": [
    "Import the neccessary libraries and our previously trained Word2Vec model."
   ]
  },
  {
   "cell_type": "code",
   "execution_count": 2,
   "metadata": {},
   "outputs": [],
   "source": [
    "import pyodbc\n",
    "import re\n",
    "import pickle\n",
    "\n",
    "from gensim.models import Word2Vec\n",
    "model = Word2Vec.load('BA_Clean_Reviews.bin')"
   ]
  },
  {
   "cell_type": "markdown",
   "metadata": {},
   "source": [
    "Our dataset resides in a SQL Server database, which we can query directly using T-SQL."
   ]
  },
  {
   "cell_type": "code",
   "execution_count": 27,
   "metadata": {},
   "outputs": [],
   "source": [
    "cnxn = pyodbc.connect('DRIVER={SQL Server};SERVER=localhost;DATABASE=BA;Trusted_Connection=yes')\n",
    "cursor = cnxn.cursor()\n",
    "\n",
    "sql_stmt = '''SELECT TOP 100 style, C.comment_clean\n",
    "FROM beers B\n",
    "LEFT JOIN reviews R ON B.beer_id = R.beer_id\n",
    "LEFT JOIN reviews_clean C ON R.SID = C.review_SID\n",
    "WHERE C.comment_clean IS NOT NULL\n",
    "AND style IN ('German Pilsner', 'American Stout', 'American Pale Ale (APA)', 'Belgian Saison')\n",
    "ORDER BY NEWID() ASC'''\n",
    "\n",
    "cursor.execute(sql_stmt)\n",
    "\n",
    "rows = cursor.fetchall()\n",
    "\n",
    "cursor.close()\n",
    "del cursor"
   ]
  },
  {
   "cell_type": "markdown",
   "metadata": {},
   "source": [
    "Each row returned will have a beer style and a cleaned review.  This review will be tokenized and the resulting array will be passed to our trained Word2Vec model.  The model will then return an array of vectors, with each element corresponding to the vector for a single word.  To obtain a vector that represents the entire review we will take the mean vector for every word vector in a review.\n",
    "\n",
    "**Note**: Taking the mean vector will result in information being lost but it has still been shown to be an effective method of obtaining a document-scoped vector."
   ]
  },
  {
   "cell_type": "code",
   "execution_count": 31,
   "metadata": {},
   "outputs": [
    {
     "data": {
      "text/plain": [
       "('American Pale Ale (APA)', 'from growler to belgian snifter just for fun appearance purely opaque peach with nice though brief slab of milky froth above aroma piney citric hops grapefruit orange peel pineapple but soft and loveable taste mouthfeel juicy bitter blast on the palate hoppy ride in the mouth then faintly diminishing in fervor sliding off happily urging me to take another trip to the lips ah there it is again very nice good and hoppy great tasting medium bodied long spicy hoppy fruity finish am excellent epa oddly haven marvelled over it as much on tap at the pub or on cask right now out of this brown jug it quite fine not stingy in the hop department delight for the lips and tongue and all the way down ')"
      ]
     },
     "execution_count": 31,
     "metadata": {},
     "output_type": "execute_result"
    }
   ],
   "source": [
    "rows[0]"
   ]
  },
  {
   "cell_type": "code",
   "execution_count": 28,
   "metadata": {},
   "outputs": [
    {
     "name": "stderr",
     "output_type": "stream",
     "text": [
      "c:\\users\\james\\appdata\\local\\programs\\python\\python37\\lib\\site-packages\\ipykernel_launcher.py:7: DeprecationWarning: Call to deprecated `__getitem__` (Method will be removed in 4.0.0, use self.wv.__getitem__() instead).\n",
      "  import sys\n"
     ]
    }
   ],
   "source": [
    "# vectors will be our final data structure, where each element corresponds to a document-scoped vector\n",
    "vectors = []\n",
    "# y_clean will correspond to the style label which we will ultimately make predictions for\n",
    "y_clean = []\n",
    "\n",
    "# for each row\n",
    "for i in range(0,len(rows)):\n",
    "    # tokenize\n",
    "    document = rows[i].comment_clean.split()\n",
    "    style = rows[i].style\n",
    "    try:\n",
    "        # pass the token array to the model, average the resulting vectors, and append it to our output array\n",
    "        vectors.append(model[document].mean(axis=0))\n",
    "        y_clean.append(style)\n",
    "    except:\n",
    "        print ('error')"
   ]
  },
  {
   "cell_type": "markdown",
   "metadata": {},
   "source": [
    "We can review the total number of reviews returned by the query as well as the distribution of styles.  In this dataset we have four style labels: American Pale Ale (APA), German Pilsner, Belgian Saison, and the American Stout."
   ]
  },
  {
   "cell_type": "code",
   "execution_count": 29,
   "metadata": {},
   "outputs": [
    {
     "name": "stdout",
     "output_type": "stream",
     "text": [
      "100\n"
     ]
    }
   ],
   "source": [
    "print(len(vectors))"
   ]
  },
  {
   "cell_type": "code",
   "execution_count": 30,
   "metadata": {},
   "outputs": [
    {
     "data": {
      "text/plain": [
       "<matplotlib.axes._subplots.AxesSubplot at 0x1bfb24dfe48>"
      ]
     },
     "execution_count": 30,
     "metadata": {},
     "output_type": "execute_result"
    },
    {
     "data": {
      "image/png": "[encoded data removed]",
      "text/plain": [
       "<Figure size 432x288 with 1 Axes>"
      ]
     },
     "metadata": {
      "needs_background": "light"
     },
     "output_type": "display_data"
    }
   ],
   "source": [
    "import seaborn as sns\n",
    "sns.countplot(y_clean)"
   ]
  },
  {
   "cell_type": "markdown",
   "metadata": {},
   "source": [
    "Now we will split our data into training and test datasets, fit a random forest model, and predict our style label."
   ]
  },
  {
   "cell_type": "code",
   "execution_count": 32,
   "metadata": {},
   "outputs": [],
   "source": [
    "from sklearn.model_selection import train_test_split\n",
    "X_train, X_test, y_train, y_test = train_test_split(vectors, y_clean, test_size=0.20, random_state=42)"
   ]
  },
  {
   "cell_type": "code",
   "execution_count": 33,
   "metadata": {},
   "outputs": [
    {
     "data": {
      "text/plain": [
       "RandomForestClassifier(bootstrap=True, class_weight=None, criterion='gini',\n",
       "            max_depth=None, max_features='auto', max_leaf_nodes=None,\n",
       "            min_impurity_decrease=0.0, min_impurity_split=None,\n",
       "            min_samples_leaf=1, min_samples_split=2,\n",
       "            min_weight_fraction_leaf=0.0, n_estimators=100, n_jobs=None,\n",
       "            oob_score=False, random_state=0, verbose=0, warm_start=False)"
      ]
     },
     "execution_count": 33,
     "metadata": {},
     "output_type": "execute_result"
    }
   ],
   "source": [
    "from sklearn.ensemble import RandomForestClassifier\n",
    "RF_classifier = RandomForestClassifier(n_estimators=100, random_state=0)  \n",
    "RF_classifier.fit(X_train, y_train)  "
   ]
  },
  {
   "cell_type": "code",
   "execution_count": 37,
   "metadata": {},
   "outputs": [
    {
     "name": "stdout",
     "output_type": "stream",
     "text": [
      "Score: 0.55\n"
     ]
    }
   ],
   "source": [
    "from sklearn.metrics import accuracy_score\n",
    "y_predictions = RF_classifier.predict(X_test)\n",
    "print(\"Score:\", accuracy_score(y_test, y_predictions, normalize = True))"
   ]
  },
  {
   "cell_type": "markdown",
   "metadata": {},
   "source": [
    "### Conclusion\n",
    "\n",
    "We have demonstrated how to use a Word2Vec model to obtain document embeddings. Then, how those document embeddings can be used as features for more traditional machine learning algorithms.\n",
    "\n",
    "In our example, we acheived a 94% accuracy with no hyper-parameterzation (either in Word2Vec or the random forest) and without attempting a more thorough cleaning strategy."
   ]
  }
 ],
 "metadata": {
  "kernelspec": {
   "display_name": "Python 3",
   "language": "python",
   "name": "python3"
  },
  "language_info": {
   "codemirror_mode": {
    "name": "ipython",
    "version": 3
   },
   "file_extension": ".py",
   "mimetype": "text/x-python",
   "name": "python",
   "nbconvert_exporter": "python",
   "pygments_lexer": "ipython3",
   "version": "3.7.2"
  }
 },
 "nbformat": 4,
 "nbformat_minor": 2
}
