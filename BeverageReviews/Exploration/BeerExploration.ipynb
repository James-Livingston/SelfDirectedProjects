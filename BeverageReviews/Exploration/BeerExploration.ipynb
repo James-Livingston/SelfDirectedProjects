{
 "cells": [
  {
   "cell_type": "markdown",
   "metadata": {},
   "source": [
    "# Ratings and Scores of Beers"
   ]
  },
  {
   "cell_type": "markdown",
   "metadata": {},
   "source": [
    "### Import the necessary libraries"
   ]
  },
  {
   "cell_type": "code",
   "execution_count": 1,
   "metadata": {},
   "outputs": [],
   "source": [
    "import pandas as pd\n",
    "import seaborn as sns\n",
    "import pyodbc"
   ]
  },
  {
   "cell_type": "markdown",
   "metadata": {},
   "source": [
    "### Query data from SQL Server\n",
    "A beer can be associate with multiple locations.  For example, a beer can be sold at a brewery and a taproom.  Thus, the beer records are grouped by their URL which is a unique identifier for each beer."
   ]
  },
  {
   "cell_type": "code",
   "execution_count": 2,
   "metadata": {},
   "outputs": [
    {
     "data": {
      "text/html": [
       "<div>\n",
       "<style scoped>\n",
       "    .dataframe tbody tr th:only-of-type {\n",
       "        vertical-align: middle;\n",
       "    }\n",
       "\n",
       "    .dataframe tbody tr th {\n",
       "        vertical-align: top;\n",
       "    }\n",
       "\n",
       "    .dataframe thead th {\n",
       "        text-align: right;\n",
       "    }\n",
       "</style>\n",
       "<table border=\"1\" class=\"dataframe\">\n",
       "  <thead>\n",
       "    <tr style=\"text-align: right;\">\n",
       "      <th></th>\n",
       "      <th>brewery_name</th>\n",
       "      <th>beer_name</th>\n",
       "      <th>style</th>\n",
       "      <th>abv</th>\n",
       "      <th>ratings</th>\n",
       "      <th>score</th>\n",
       "    </tr>\n",
       "  </thead>\n",
       "  <tbody>\n",
       "    <tr>\n",
       "      <th>0</th>\n",
       "      <td>Privatbrauerei Schweiger</td>\n",
       "      <td>Natur Russ</td>\n",
       "      <td>Fruit and Field Beer</td>\n",
       "      <td>2.60</td>\n",
       "      <td>0</td>\n",
       "      <td>0.00</td>\n",
       "    </tr>\n",
       "    <tr>\n",
       "      <th>1</th>\n",
       "      <td>Dickensian Brewery</td>\n",
       "      <td>David Hopperfield</td>\n",
       "      <td>English Pale Ale</td>\n",
       "      <td>4.00</td>\n",
       "      <td>1</td>\n",
       "      <td>3.47</td>\n",
       "    </tr>\n",
       "    <tr>\n",
       "      <th>2</th>\n",
       "      <td>Pinellas Ale Works</td>\n",
       "      <td>Harold's St Pete Style Lager</td>\n",
       "      <td>American Light Lager</td>\n",
       "      <td>5.50</td>\n",
       "      <td>4</td>\n",
       "      <td>3.44</td>\n",
       "    </tr>\n",
       "    <tr>\n",
       "      <th>3</th>\n",
       "      <td>Odell Brewing Company</td>\n",
       "      <td>Sweet Destroyer Toffee Stout</td>\n",
       "      <td>American Stout</td>\n",
       "      <td>8.00</td>\n",
       "      <td>1</td>\n",
       "      <td>4.25</td>\n",
       "    </tr>\n",
       "    <tr>\n",
       "      <th>4</th>\n",
       "      <td>Payette Brewing</td>\n",
       "      <td>Harvest: Raspberry Brown Ale</td>\n",
       "      <td>American Brown Ale</td>\n",
       "      <td>5.50</td>\n",
       "      <td>1</td>\n",
       "      <td>2.58</td>\n",
       "    </tr>\n",
       "  </tbody>\n",
       "</table>\n",
       "</div>"
      ],
      "text/plain": [
       "               brewery_name                     beer_name  \\\n",
       "0  Privatbrauerei Schweiger                    Natur Russ   \n",
       "1        Dickensian Brewery             David Hopperfield   \n",
       "2        Pinellas Ale Works  Harold's St Pete Style Lager   \n",
       "3     Odell Brewing Company  Sweet Destroyer Toffee Stout   \n",
       "4           Payette Brewing  Harvest: Raspberry Brown Ale   \n",
       "\n",
       "                  style   abv  ratings  score  \n",
       "0  Fruit and Field Beer  2.60        0   0.00  \n",
       "1      English Pale Ale  4.00        1   3.47  \n",
       "2  American Light Lager  5.50        4   3.44  \n",
       "3        American Stout  8.00        1   4.25  \n",
       "4    American Brown Ale  5.50        1   2.58  "
      ]
     },
     "execution_count": 2,
     "metadata": {},
     "output_type": "execute_result"
    }
   ],
   "source": [
    "sql_conn = pyodbc.connect('DRIVER={ODBC Driver 13 for SQL Server};SERVER=localhost;DATABASE=BA;Trusted_Connection=yes') \n",
    "query = '''\n",
    "SELECT MAX(BR.name) AS 'brewery_name', MAX(B.name) AS 'beer_name', MAX(style) AS style, MAX(abv) AS abv, MAX(B.ratings) AS ratings, MAX(B.score) AS score\n",
    "FROM beers B\n",
    "LEFT JOIN breweries BR ON B.brewery_id = BR.brewery_id\n",
    "GROUP BY [url]'''\n",
    "df = pd.read_sql(query, sql_conn)\n",
    "\n",
    "df.head(5)"
   ]
  },
  {
   "cell_type": "markdown",
   "metadata": {},
   "source": [
    "### Distribution of scores (ie. ratings) of individual beers."
   ]
  },
  {
   "cell_type": "code",
   "execution_count": 3,
   "metadata": {},
   "outputs": [
    {
     "data": {
      "text/plain": [
       "<matplotlib.axes._subplots.AxesSubplot at 0x23de1fea320>"
      ]
     },
     "execution_count": 3,
     "metadata": {},
     "output_type": "execute_result"
    },
    {
     "data": {
      "image/png": "[encoded data removed]",
      "text/plain": [
       "<Figure size 432x288 with 1 Axes>"
      ]
     },
     "metadata": {
      "needs_background": "light"
     },
     "output_type": "display_data"
    }
   ],
   "source": [
    "sns.distplot(df['score'], kde=False)"
   ]
  },
  {
   "cell_type": "markdown",
   "metadata": {},
   "source": [
    "There's a large number of beers with a score of 0."
   ]
  },
  {
   "cell_type": "code",
   "execution_count": 4,
   "metadata": {},
   "outputs": [
    {
     "data": {
      "text/plain": [
       "<seaborn.axisgrid.JointGrid at 0x23de6282cc0>"
      ]
     },
     "execution_count": 4,
     "metadata": {},
     "output_type": "execute_result"
    },
    {
     "data": {
      "image/png": "[encoded data removed]",
      "text/plain": [
       "<Figure size 432x432 with 3 Axes>"
      ]
     },
     "metadata": {
      "needs_background": "light"
     },
     "output_type": "display_data"
    }
   ],
   "source": [
    "sns.jointplot('ratings','score',data=df)"
   ]
  },
  {
   "cell_type": "markdown",
   "metadata": {},
   "source": [
    "The large number of beers with a score of 0 is explained by the lack of ratings (also 0).  The beers without ratings will be dropped."
   ]
  },
  {
   "cell_type": "code",
   "execution_count": 5,
   "metadata": {},
   "outputs": [
    {
     "data": {
      "text/plain": [
       "<seaborn.axisgrid.JointGrid at 0x23dd222ea58>"
      ]
     },
     "execution_count": 5,
     "metadata": {},
     "output_type": "execute_result"
    },
    {
     "data": {
      "image/png": "[encoded data removed]",
      "text/plain": [
       "<Figure size 432x432 with 3 Axes>"
      ]
     },
     "metadata": {
      "needs_background": "light"
     },
     "output_type": "display_data"
    }
   ],
   "source": [
    "df.drop(df[df['ratings'] == 0].index, inplace=True)\n",
    "\n",
    "sns.jointplot('ratings','score',data=df)"
   ]
  },
  {
   "cell_type": "markdown",
   "metadata": {},
   "source": [
    "The data is still skewed heavily to low ratings quanity.  Even for beers with less than 100 ratings, the data is heavily skewed, the beers with less than 100 ratings will be dropped."
   ]
  },
  {
   "cell_type": "code",
   "execution_count": 6,
   "metadata": {},
   "outputs": [
    {
     "data": {
      "text/plain": [
       "<matplotlib.axes._subplots.AxesSubplot at 0x23de2bbfda0>"
      ]
     },
     "execution_count": 6,
     "metadata": {},
     "output_type": "execute_result"
    },
    {
     "data": {
      "image/png": "[encoded data removed]",
      "text/plain": [
       "<Figure size 432x288 with 1 Axes>"
      ]
     },
     "metadata": {
      "needs_background": "light"
     },
     "output_type": "display_data"
    }
   ],
   "source": [
    "sns.distplot(df[df['ratings'] < 100]['ratings'])"
   ]
  },
  {
   "cell_type": "code",
   "execution_count": 7,
   "metadata": {},
   "outputs": [
    {
     "data": {
      "text/plain": [
       "<seaborn.axisgrid.JointGrid at 0x23de3e89f28>"
      ]
     },
     "execution_count": 7,
     "metadata": {},
     "output_type": "execute_result"
    },
    {
     "data": {
      "image/png": "[encoded data removed]",
      "text/plain": [
       "<Figure size 432x432 with 3 Axes>"
      ]
     },
     "metadata": {
      "needs_background": "light"
     },
     "output_type": "display_data"
    }
   ],
   "source": [
    "df.drop(df[df['ratings'] < 100].index, inplace=True)\n",
    "\n",
    "sns.jointplot('ratings','score',data=df)"
   ]
  },
  {
   "cell_type": "markdown",
   "metadata": {},
   "source": [
    "The data appears to have a slight trend, when ratings count increases score will also increase.  Here are the beers with more than 10,000 reviews, note the consistent score above 4."
   ]
  },
  {
   "cell_type": "code",
   "execution_count": 8,
   "metadata": {},
   "outputs": [
    {
     "data": {
      "text/html": [
       "<div>\n",
       "<style scoped>\n",
       "    .dataframe tbody tr th:only-of-type {\n",
       "        vertical-align: middle;\n",
       "    }\n",
       "\n",
       "    .dataframe tbody tr th {\n",
       "        vertical-align: top;\n",
       "    }\n",
       "\n",
       "    .dataframe thead th {\n",
       "        text-align: right;\n",
       "    }\n",
       "</style>\n",
       "<table border=\"1\" class=\"dataframe\">\n",
       "  <thead>\n",
       "    <tr style=\"text-align: right;\">\n",
       "      <th></th>\n",
       "      <th>brewery_name</th>\n",
       "      <th>beer_name</th>\n",
       "      <th>style</th>\n",
       "      <th>abv</th>\n",
       "      <th>ratings</th>\n",
       "      <th>score</th>\n",
       "    </tr>\n",
       "  </thead>\n",
       "  <tbody>\n",
       "    <tr>\n",
       "      <th>229733</th>\n",
       "      <td>Founders Brewing Company</td>\n",
       "      <td>Breakfast Stout</td>\n",
       "      <td>American Imperial Stout</td>\n",
       "      <td>8.30</td>\n",
       "      <td>17331</td>\n",
       "      <td>4.51</td>\n",
       "    </tr>\n",
       "    <tr>\n",
       "      <th>195385</th>\n",
       "      <td>Dogfish Head Craft Brewery</td>\n",
       "      <td>90 Minute IPA</td>\n",
       "      <td>American Imperial IPA</td>\n",
       "      <td>9.00</td>\n",
       "      <td>16072</td>\n",
       "      <td>4.27</td>\n",
       "    </tr>\n",
       "    <tr>\n",
       "      <th>220239</th>\n",
       "      <td>Bell's Brewery - Eccentric Café &amp; General Store</td>\n",
       "      <td>Two Hearted Ale</td>\n",
       "      <td>American IPA</td>\n",
       "      <td>7.00</td>\n",
       "      <td>15074</td>\n",
       "      <td>4.27</td>\n",
       "    </tr>\n",
       "    <tr>\n",
       "      <th>15878</th>\n",
       "      <td>Russian River Brewing Company</td>\n",
       "      <td>Pliny The Elder</td>\n",
       "      <td>American Imperial IPA</td>\n",
       "      <td>8.00</td>\n",
       "      <td>15056</td>\n",
       "      <td>4.64</td>\n",
       "    </tr>\n",
       "    <tr>\n",
       "      <th>157543</th>\n",
       "      <td>The Alchemist</td>\n",
       "      <td>Heady Topper</td>\n",
       "      <td>New England IPA</td>\n",
       "      <td>8.00</td>\n",
       "      <td>14456</td>\n",
       "      <td>4.71</td>\n",
       "    </tr>\n",
       "    <tr>\n",
       "      <th>89086</th>\n",
       "      <td>Ballast Point Brewing Company</td>\n",
       "      <td>Sculpin</td>\n",
       "      <td>American IPA</td>\n",
       "      <td>7.00</td>\n",
       "      <td>14366</td>\n",
       "      <td>4.38</td>\n",
       "    </tr>\n",
       "    <tr>\n",
       "      <th>6030</th>\n",
       "      <td>Bell's Brewery - Eccentric Café &amp; General Store</td>\n",
       "      <td>Hopslam Ale</td>\n",
       "      <td>American Imperial IPA</td>\n",
       "      <td>10.00</td>\n",
       "      <td>13629</td>\n",
       "      <td>4.46</td>\n",
       "    </tr>\n",
       "    <tr>\n",
       "      <th>67471</th>\n",
       "      <td>Founders Brewing Company</td>\n",
       "      <td>KBS (Kentucky Breakfast Stout)</td>\n",
       "      <td>American Imperial Stout</td>\n",
       "      <td>12.30</td>\n",
       "      <td>13452</td>\n",
       "      <td>4.60</td>\n",
       "    </tr>\n",
       "    <tr>\n",
       "      <th>109732</th>\n",
       "      <td>Goose Island Beer Co.</td>\n",
       "      <td>Bourbon County Brand Stout</td>\n",
       "      <td>American Imperial Stout</td>\n",
       "      <td>15.20</td>\n",
       "      <td>12886</td>\n",
       "      <td>4.60</td>\n",
       "    </tr>\n",
       "    <tr>\n",
       "      <th>2613</th>\n",
       "      <td>North Coast Brewing Co.</td>\n",
       "      <td>Old Rasputin</td>\n",
       "      <td>Russian Imperial Stout</td>\n",
       "      <td>9.00</td>\n",
       "      <td>12634</td>\n",
       "      <td>4.30</td>\n",
       "    </tr>\n",
       "    <tr>\n",
       "      <th>121613</th>\n",
       "      <td>Dogfish Head Craft Brewery</td>\n",
       "      <td>60 Minute IPA</td>\n",
       "      <td>American IPA</td>\n",
       "      <td>6.00</td>\n",
       "      <td>11822</td>\n",
       "      <td>4.08</td>\n",
       "    </tr>\n",
       "    <tr>\n",
       "      <th>118875</th>\n",
       "      <td>Sierra Nevada Brewing Co.</td>\n",
       "      <td>Sierra Nevada Pale Ale</td>\n",
       "      <td>American Pale Ale (APA)</td>\n",
       "      <td>5.60</td>\n",
       "      <td>11745</td>\n",
       "      <td>4.03</td>\n",
       "    </tr>\n",
       "    <tr>\n",
       "      <th>36033</th>\n",
       "      <td>Stone Brewing Co. - Richmond</td>\n",
       "      <td>IPA</td>\n",
       "      <td>American IPA</td>\n",
       "      <td>6.90</td>\n",
       "      <td>11412</td>\n",
       "      <td>4.20</td>\n",
       "    </tr>\n",
       "    <tr>\n",
       "      <th>73435</th>\n",
       "      <td>Sierra Nevada Brewing Co.</td>\n",
       "      <td>Torpedo Extra IPA</td>\n",
       "      <td>American IPA</td>\n",
       "      <td>7.20</td>\n",
       "      <td>11321</td>\n",
       "      <td>4.15</td>\n",
       "    </tr>\n",
       "    <tr>\n",
       "      <th>164766</th>\n",
       "      <td>Stone Brewing Co. - Richmond</td>\n",
       "      <td>Enjoy By IPA</td>\n",
       "      <td>American Imperial IPA</td>\n",
       "      <td>9.40</td>\n",
       "      <td>11042</td>\n",
       "      <td>4.41</td>\n",
       "    </tr>\n",
       "    <tr>\n",
       "      <th>110201</th>\n",
       "      <td>Arrogant Consortia</td>\n",
       "      <td>Arrogant Bastard Ale</td>\n",
       "      <td>American Strong Ale</td>\n",
       "      <td>7.20</td>\n",
       "      <td>10881</td>\n",
       "      <td>4.15</td>\n",
       "    </tr>\n",
       "    <tr>\n",
       "      <th>117946</th>\n",
       "      <td>3 Floyds Brewing Co.</td>\n",
       "      <td>Zombie Dust</td>\n",
       "      <td>American Pale Ale (APA)</td>\n",
       "      <td>6.20</td>\n",
       "      <td>10617</td>\n",
       "      <td>4.58</td>\n",
       "    </tr>\n",
       "    <tr>\n",
       "      <th>223187</th>\n",
       "      <td>Sierra Nevada Brewing Co.</td>\n",
       "      <td>Celebration Fresh Hop IPA</td>\n",
       "      <td>American IPA</td>\n",
       "      <td>6.80</td>\n",
       "      <td>10559</td>\n",
       "      <td>4.15</td>\n",
       "    </tr>\n",
       "    <tr>\n",
       "      <th>95044</th>\n",
       "      <td>Lagunitas Brewing Company</td>\n",
       "      <td>Lagunitas Sucks</td>\n",
       "      <td>American Imperial IPA</td>\n",
       "      <td>7.85</td>\n",
       "      <td>10430</td>\n",
       "      <td>4.32</td>\n",
       "    </tr>\n",
       "    <tr>\n",
       "      <th>195439</th>\n",
       "      <td>Unibroue</td>\n",
       "      <td>La Fin Du Monde</td>\n",
       "      <td>Belgian Tripel</td>\n",
       "      <td>9.00</td>\n",
       "      <td>10357</td>\n",
       "      <td>4.32</td>\n",
       "    </tr>\n",
       "    <tr>\n",
       "      <th>158604</th>\n",
       "      <td>Oskar Blues Grill &amp; Brew</td>\n",
       "      <td>Ten FIDY</td>\n",
       "      <td>Russian Imperial Stout</td>\n",
       "      <td>10.50</td>\n",
       "      <td>10093</td>\n",
       "      <td>4.38</td>\n",
       "    </tr>\n",
       "  </tbody>\n",
       "</table>\n",
       "</div>"
      ],
      "text/plain": [
       "                                           brewery_name  \\\n",
       "229733                         Founders Brewing Company   \n",
       "195385                       Dogfish Head Craft Brewery   \n",
       "220239  Bell's Brewery - Eccentric Café & General Store   \n",
       "15878                     Russian River Brewing Company   \n",
       "157543                                    The Alchemist   \n",
       "89086                     Ballast Point Brewing Company   \n",
       "6030    Bell's Brewery - Eccentric Café & General Store   \n",
       "67471                          Founders Brewing Company   \n",
       "109732                            Goose Island Beer Co.   \n",
       "2613                            North Coast Brewing Co.   \n",
       "121613                       Dogfish Head Craft Brewery   \n",
       "118875                        Sierra Nevada Brewing Co.   \n",
       "36033                      Stone Brewing Co. - Richmond   \n",
       "73435                         Sierra Nevada Brewing Co.   \n",
       "164766                     Stone Brewing Co. - Richmond   \n",
       "110201                               Arrogant Consortia   \n",
       "117946                             3 Floyds Brewing Co.   \n",
       "223187                        Sierra Nevada Brewing Co.   \n",
       "95044                         Lagunitas Brewing Company   \n",
       "195439                                         Unibroue   \n",
       "158604                         Oskar Blues Grill & Brew   \n",
       "\n",
       "                             beer_name                    style    abv  \\\n",
       "229733                 Breakfast Stout  American Imperial Stout   8.30   \n",
       "195385                   90 Minute IPA    American Imperial IPA   9.00   \n",
       "220239                 Two Hearted Ale             American IPA   7.00   \n",
       "15878                  Pliny The Elder    American Imperial IPA   8.00   \n",
       "157543                    Heady Topper          New England IPA   8.00   \n",
       "89086                          Sculpin             American IPA   7.00   \n",
       "6030                       Hopslam Ale    American Imperial IPA  10.00   \n",
       "67471   KBS (Kentucky Breakfast Stout)  American Imperial Stout  12.30   \n",
       "109732      Bourbon County Brand Stout  American Imperial Stout  15.20   \n",
       "2613                      Old Rasputin   Russian Imperial Stout   9.00   \n",
       "121613                   60 Minute IPA             American IPA   6.00   \n",
       "118875          Sierra Nevada Pale Ale  American Pale Ale (APA)   5.60   \n",
       "36033                              IPA             American IPA   6.90   \n",
       "73435                Torpedo Extra IPA             American IPA   7.20   \n",
       "164766                    Enjoy By IPA    American Imperial IPA   9.40   \n",
       "110201            Arrogant Bastard Ale      American Strong Ale   7.20   \n",
       "117946                     Zombie Dust  American Pale Ale (APA)   6.20   \n",
       "223187       Celebration Fresh Hop IPA             American IPA   6.80   \n",
       "95044                  Lagunitas Sucks    American Imperial IPA   7.85   \n",
       "195439                 La Fin Du Monde           Belgian Tripel   9.00   \n",
       "158604                        Ten FIDY   Russian Imperial Stout  10.50   \n",
       "\n",
       "        ratings  score  \n",
       "229733    17331   4.51  \n",
       "195385    16072   4.27  \n",
       "220239    15074   4.27  \n",
       "15878     15056   4.64  \n",
       "157543    14456   4.71  \n",
       "89086     14366   4.38  \n",
       "6030      13629   4.46  \n",
       "67471     13452   4.60  \n",
       "109732    12886   4.60  \n",
       "2613      12634   4.30  \n",
       "121613    11822   4.08  \n",
       "118875    11745   4.03  \n",
       "36033     11412   4.20  \n",
       "73435     11321   4.15  \n",
       "164766    11042   4.41  \n",
       "110201    10881   4.15  \n",
       "117946    10617   4.58  \n",
       "223187    10559   4.15  \n",
       "95044     10430   4.32  \n",
       "195439    10357   4.32  \n",
       "158604    10093   4.38  "
      ]
     },
     "execution_count": 8,
     "metadata": {},
     "output_type": "execute_result"
    }
   ],
   "source": [
    "df[df['ratings'] > 10000].sort_values('ratings', ascending=False)"
   ]
  },
  {
   "cell_type": "markdown",
   "metadata": {},
   "source": [
    "Visualize a linear regression and we see that there is indeed a slight upward trend, implying that the most reviewed beers typically have higher scores."
   ]
  },
  {
   "cell_type": "code",
   "execution_count": 9,
   "metadata": {},
   "outputs": [
    {
     "data": {
      "text/plain": [
       "<matplotlib.axes._subplots.AxesSubplot at 0x23de6c07f60>"
      ]
     },
     "execution_count": 9,
     "metadata": {},
     "output_type": "execute_result"
    },
    {
     "data": {
      "image/png": "[encoded data removed]",
      "text/plain": [
       "<Figure size 432x288 with 1 Axes>"
      ]
     },
     "metadata": {
      "needs_background": "light"
     },
     "output_type": "display_data"
    }
   ],
   "source": [
    "sns.regplot('ratings','score',data=df,line_kws={'color': 'red'})"
   ]
  },
  {
   "cell_type": "markdown",
   "metadata": {},
   "source": [
    "Also interesting is the small cluster of beers with around 5000 ratings and scores under 3.0."
   ]
  },
  {
   "cell_type": "code",
   "execution_count": 19,
   "metadata": {},
   "outputs": [
    {
     "data": {
      "text/html": [
       "<div>\n",
       "<style scoped>\n",
       "    .dataframe tbody tr th:only-of-type {\n",
       "        vertical-align: middle;\n",
       "    }\n",
       "\n",
       "    .dataframe tbody tr th {\n",
       "        vertical-align: top;\n",
       "    }\n",
       "\n",
       "    .dataframe thead th {\n",
       "        text-align: right;\n",
       "    }\n",
       "</style>\n",
       "<table border=\"1\" class=\"dataframe\">\n",
       "  <thead>\n",
       "    <tr style=\"text-align: right;\">\n",
       "      <th></th>\n",
       "      <th>brewery_name</th>\n",
       "      <th>beer_name</th>\n",
       "      <th>style</th>\n",
       "      <th>abv</th>\n",
       "      <th>ratings</th>\n",
       "      <th>score</th>\n",
       "    </tr>\n",
       "  </thead>\n",
       "  <tbody>\n",
       "    <tr>\n",
       "      <th>9633</th>\n",
       "      <td>Grupo Modelo S.A. de C.V.</td>\n",
       "      <td>Corona Extra</td>\n",
       "      <td>American Adjunct Lager</td>\n",
       "      <td>4.60</td>\n",
       "      <td>5259</td>\n",
       "      <td>2.35</td>\n",
       "    </tr>\n",
       "    <tr>\n",
       "      <th>77502</th>\n",
       "      <td>Heineken Nederland B.V.</td>\n",
       "      <td>Heineken Lager Beer</td>\n",
       "      <td>European Pale Lager</td>\n",
       "      <td>5.00</td>\n",
       "      <td>5362</td>\n",
       "      <td>2.73</td>\n",
       "    </tr>\n",
       "    <tr>\n",
       "      <th>78506</th>\n",
       "      <td>Pabst Brewing Company</td>\n",
       "      <td>Pabst Blue Ribbon (PBR)</td>\n",
       "      <td>American Adjunct Lager</td>\n",
       "      <td>4.74</td>\n",
       "      <td>5928</td>\n",
       "      <td>2.94</td>\n",
       "    </tr>\n",
       "    <tr>\n",
       "      <th>158032</th>\n",
       "      <td>Anheuser-Busch</td>\n",
       "      <td>Bud Light</td>\n",
       "      <td>American Light Lager</td>\n",
       "      <td>4.20</td>\n",
       "      <td>6214</td>\n",
       "      <td>1.86</td>\n",
       "    </tr>\n",
       "    <tr>\n",
       "      <th>176599</th>\n",
       "      <td>Anheuser-Busch</td>\n",
       "      <td>Budweiser</td>\n",
       "      <td>American Adjunct Lager</td>\n",
       "      <td>5.00</td>\n",
       "      <td>6548</td>\n",
       "      <td>2.37</td>\n",
       "    </tr>\n",
       "    <tr>\n",
       "      <th>192720</th>\n",
       "      <td>Coors Brewing Company (Molson-Coors)</td>\n",
       "      <td>Coors Light</td>\n",
       "      <td>American Light Lager</td>\n",
       "      <td>4.20</td>\n",
       "      <td>5385</td>\n",
       "      <td>2.04</td>\n",
       "    </tr>\n",
       "  </tbody>\n",
       "</table>\n",
       "</div>"
      ],
      "text/plain": [
       "                                brewery_name                beer_name  \\\n",
       "9633               Grupo Modelo S.A. de C.V.             Corona Extra   \n",
       "77502                Heineken Nederland B.V.      Heineken Lager Beer   \n",
       "78506                  Pabst Brewing Company  Pabst Blue Ribbon (PBR)   \n",
       "158032                        Anheuser-Busch                Bud Light   \n",
       "176599                        Anheuser-Busch                Budweiser   \n",
       "192720  Coors Brewing Company (Molson-Coors)              Coors Light   \n",
       "\n",
       "                         style   abv  ratings  score  \n",
       "9633    American Adjunct Lager  4.60     5259   2.35  \n",
       "77502      European Pale Lager  5.00     5362   2.73  \n",
       "78506   American Adjunct Lager  4.74     5928   2.94  \n",
       "158032    American Light Lager  4.20     6214   1.86  \n",
       "176599  American Adjunct Lager  5.00     6548   2.37  \n",
       "192720    American Light Lager  4.20     5385   2.04  "
      ]
     },
     "execution_count": 19,
     "metadata": {},
     "output_type": "execute_result"
    }
   ],
   "source": [
    "df_highratings = df[df['ratings'] > 5000]\n",
    "df_lowscores = df_highratings[df_highratings['score'] < 3]\n",
    "\n",
    "df_lowscores"
   ]
  },
  {
   "cell_type": "markdown",
   "metadata": {},
   "source": [
    "These low score beers cooberate our domain knowledge: these are mass-produce low-cost beers from macro-breweries."
   ]
  }
 ],
 "metadata": {
  "kernelspec": {
   "display_name": "Python 3",
   "language": "python",
   "name": "python3"
  },
  "language_info": {
   "codemirror_mode": {
    "name": "ipython",
    "version": 3
   },
   "file_extension": ".py",
   "mimetype": "text/x-python",
   "name": "python",
   "nbconvert_exporter": "python",
   "pygments_lexer": "ipython3",
   "version": "3.7.2"
  }
 },
 "nbformat": 4,
 "nbformat_minor": 2
}
