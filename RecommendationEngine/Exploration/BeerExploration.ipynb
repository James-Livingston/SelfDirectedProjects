{
 "cells": [
  {
   "cell_type": "markdown",
   "metadata": {},
   "source": [
    "# Ratings and Scores of Beers"
   ]
  },
  {
   "cell_type": "markdown",
   "metadata": {},
   "source": [
    "### Import the necessary libraries"
   ]
  },
  {
   "cell_type": "code",
   "execution_count": 1,
   "metadata": {},
   "outputs": [],
   "source": [
    "import pandas as pd\n",
    "import seaborn as sns\n",
    "import pyodbc"
   ]
  },
  {
   "cell_type": "markdown",
   "metadata": {},
   "source": [
    "### Query data from SQL Server\n",
    "A beer can be associate with multiple locations.  For example, a beer can be sold at a brewery and a taproom.  Thus, the beer records are grouped by their URL which is a unique identifier for each beer."
   ]
  },
  {
   "cell_type": "code",
   "execution_count": 2,
   "metadata": {},
   "outputs": [
    {
     "data": {
      "text/html": [
       "<div>\n",
       "<style scoped>\n",
       "    .dataframe tbody tr th:only-of-type {\n",
       "        vertical-align: middle;\n",
       "    }\n",
       "\n",
       "    .dataframe tbody tr th {\n",
       "        vertical-align: top;\n",
       "    }\n",
       "\n",
       "    .dataframe thead th {\n",
       "        text-align: right;\n",
       "    }\n",
       "</style>\n",
       "<table border=\"1\" class=\"dataframe\">\n",
       "  <thead>\n",
       "    <tr style=\"text-align: right;\">\n",
       "      <th></th>\n",
       "      <th>brewery_name</th>\n",
       "      <th>beer_name</th>\n",
       "      <th>style</th>\n",
       "      <th>abv</th>\n",
       "      <th>ratings</th>\n",
       "      <th>score</th>\n",
       "    </tr>\n",
       "  </thead>\n",
       "  <tbody>\n",
       "    <tr>\n",
       "      <th>0</th>\n",
       "      <td>Mad Chef Craft Brewing</td>\n",
       "      <td>Mad Fire Golden Goose</td>\n",
       "      <td>Braggot</td>\n",
       "      <td>7.00</td>\n",
       "      <td>1</td>\n",
       "      <td>3.89</td>\n",
       "    </tr>\n",
       "    <tr>\n",
       "      <th>1</th>\n",
       "      <td>Wartega</td>\n",
       "      <td>Rantallion</td>\n",
       "      <td>Herb and Spice Beer</td>\n",
       "      <td>4.50</td>\n",
       "      <td>0</td>\n",
       "      <td>0.00</td>\n",
       "    </tr>\n",
       "    <tr>\n",
       "      <th>2</th>\n",
       "      <td>Portsmouth Brewery</td>\n",
       "      <td>Portsmouth Redwood Rye Lager</td>\n",
       "      <td>Rye Beer</td>\n",
       "      <td>5.60</td>\n",
       "      <td>3</td>\n",
       "      <td>3.80</td>\n",
       "    </tr>\n",
       "    <tr>\n",
       "      <th>3</th>\n",
       "      <td>Fitger's Brewhouse</td>\n",
       "      <td>El Diablo</td>\n",
       "      <td>Belgian Strong Pale Ale</td>\n",
       "      <td>8.20</td>\n",
       "      <td>10</td>\n",
       "      <td>3.93</td>\n",
       "    </tr>\n",
       "    <tr>\n",
       "      <th>4</th>\n",
       "      <td>Lafayette Brewing Co.</td>\n",
       "      <td>Marley's VSOP</td>\n",
       "      <td>English Porter</td>\n",
       "      <td>8.10</td>\n",
       "      <td>1</td>\n",
       "      <td>3.91</td>\n",
       "    </tr>\n",
       "  </tbody>\n",
       "</table>\n",
       "</div>"
      ],
      "text/plain": [
       "             brewery_name                     beer_name  \\\n",
       "0  Mad Chef Craft Brewing         Mad Fire Golden Goose   \n",
       "1                 Wartega                    Rantallion   \n",
       "2      Portsmouth Brewery  Portsmouth Redwood Rye Lager   \n",
       "3      Fitger's Brewhouse                     El Diablo   \n",
       "4   Lafayette Brewing Co.                 Marley's VSOP   \n",
       "\n",
       "                     style   abv  ratings  score  \n",
       "0                  Braggot  7.00        1   3.89  \n",
       "1      Herb and Spice Beer  4.50        0   0.00  \n",
       "2                 Rye Beer  5.60        3   3.80  \n",
       "3  Belgian Strong Pale Ale  8.20       10   3.93  \n",
       "4           English Porter  8.10        1   3.91  "
      ]
     },
     "execution_count": 2,
     "metadata": {},
     "output_type": "execute_result"
    }
   ],
   "source": [
    "sql_conn = pyodbc.connect('DRIVER={ODBC Driver 13 for SQL Server};SERVER=localhost;DATABASE=BA;Trusted_Connection=yes') \n",
    "query = '''\n",
    "SELECT MAX(BR.name) AS 'brewery_name', MAX(B.name) AS 'beer_name', MAX(style) AS style, MAX(abv) AS abv, MAX(B.ratings) AS ratings, MAX(B.score) AS score\n",
    "FROM beers B\n",
    "LEFT JOIN breweries BR ON B.brewery_id = BR.brewery_id\n",
    "GROUP BY [url]'''\n",
    "df = pd.read_sql(query, sql_conn)\n",
    "\n",
    "df.head(5)"
   ]
  },
  {
   "cell_type": "markdown",
   "metadata": {},
   "source": [
    "### Distribution of scores (ie. ratings) of individual beers."
   ]
  },
  {
   "cell_type": "code",
   "execution_count": 3,
   "metadata": {},
   "outputs": [
    {
     "data": {
      "text/plain": [
       "<matplotlib.axes._subplots.AxesSubplot at 0x1552e8625c0>"
      ]
     },
     "execution_count": 3,
     "metadata": {},
     "output_type": "execute_result"
    },
    {
     "data": {
      "image/png": "[encoded data removed]",
      "text/plain": [
       "<Figure size 432x288 with 1 Axes>"
      ]
     },
     "metadata": {
      "needs_background": "light"
     },
     "output_type": "display_data"
    }
   ],
   "source": [
    "sns.distplot(df['score'], kde=False)"
   ]
  },
  {
   "cell_type": "markdown",
   "metadata": {},
   "source": [
    "There's a large number of beers with a score of 0."
   ]
  },
  {
   "cell_type": "code",
   "execution_count": 4,
   "metadata": {},
   "outputs": [
    {
     "data": {
      "text/plain": [
       "<seaborn.axisgrid.JointGrid at 0x1552f2986d8>"
      ]
     },
     "execution_count": 4,
     "metadata": {},
     "output_type": "execute_result"
    },
    {
     "data": {
      "image/png": "[encoded data removed]",
      "text/plain": [
       "<Figure size 432x432 with 3 Axes>"
      ]
     },
     "metadata": {
      "needs_background": "light"
     },
     "output_type": "display_data"
    }
   ],
   "source": [
    "sns.jointplot('ratings','score',data=df)"
   ]
  },
  {
   "cell_type": "markdown",
   "metadata": {},
   "source": [
    "The large number of beers with a score of 0 is explained by the lack of ratings (also 0).  The beers without ratings will be dropped."
   ]
  },
  {
   "cell_type": "code",
   "execution_count": 5,
   "metadata": {},
   "outputs": [
    {
     "data": {
      "text/plain": [
       "<seaborn.axisgrid.JointGrid at 0x1552147fc88>"
      ]
     },
     "execution_count": 5,
     "metadata": {},
     "output_type": "execute_result"
    },
    {
     "data": {
      "image/png": "[encoded data removed]",
      "text/plain": [
       "<Figure size 432x432 with 3 Axes>"
      ]
     },
     "metadata": {
      "needs_background": "light"
     },
     "output_type": "display_data"
    }
   ],
   "source": [
    "df.drop(df[df['ratings'] == 0].index, inplace=True)\n",
    "\n",
    "sns.jointplot('ratings','score',data=df)"
   ]
  },
  {
   "cell_type": "markdown",
   "metadata": {},
   "source": [
    "The data is still skewed heavily to low ratings quanity.  Even for beers with less than 100 ratings, the data is heavily skewed, the beers with less than 100 ratings will be dropped."
   ]
  },
  {
   "cell_type": "code",
   "execution_count": 6,
   "metadata": {},
   "outputs": [
    {
     "data": {
      "text/plain": [
       "<matplotlib.axes._subplots.AxesSubplot at 0x15536000588>"
      ]
     },
     "execution_count": 6,
     "metadata": {},
     "output_type": "execute_result"
    },
    {
     "data": {
      "image/png": "[encoded data removed]",
      "text/plain": [
       "<Figure size 432x288 with 1 Axes>"
      ]
     },
     "metadata": {
      "needs_background": "light"
     },
     "output_type": "display_data"
    }
   ],
   "source": [
    "sns.distplot(df[df['ratings'] < 100]['ratings'])"
   ]
  },
  {
   "cell_type": "code",
   "execution_count": 7,
   "metadata": {},
   "outputs": [
    {
     "data": {
      "text/plain": [
       "<seaborn.axisgrid.JointGrid at 0x155327c6cf8>"
      ]
     },
     "execution_count": 7,
     "metadata": {},
     "output_type": "execute_result"
    },
    {
     "data": {
      "image/png": "[encoded data removed]",
      "text/plain": [
       "<Figure size 432x432 with 3 Axes>"
      ]
     },
     "metadata": {
      "needs_background": "light"
     },
     "output_type": "display_data"
    }
   ],
   "source": [
    "df.drop(df[df['ratings'] < 100].index, inplace=True)\n",
    "\n",
    "sns.jointplot('ratings','score',data=df)"
   ]
  },
  {
   "cell_type": "markdown",
   "metadata": {},
   "source": [
    "The data appears to have a slight trend, when ratings count increases score will also increase.  Here are the beers with more than 10,000 reviews, note the consistent score above 4."
   ]
  },
  {
   "cell_type": "code",
   "execution_count": 10,
   "metadata": {},
   "outputs": [
    {
     "data": {
      "text/html": [
       "<div>\n",
       "<style scoped>\n",
       "    .dataframe tbody tr th:only-of-type {\n",
       "        vertical-align: middle;\n",
       "    }\n",
       "\n",
       "    .dataframe tbody tr th {\n",
       "        vertical-align: top;\n",
       "    }\n",
       "\n",
       "    .dataframe thead th {\n",
       "        text-align: right;\n",
       "    }\n",
       "</style>\n",
       "<table border=\"1\" class=\"dataframe\">\n",
       "  <thead>\n",
       "    <tr style=\"text-align: right;\">\n",
       "      <th></th>\n",
       "      <th>brewery_name</th>\n",
       "      <th>beer_name</th>\n",
       "      <th>style</th>\n",
       "      <th>abv</th>\n",
       "      <th>ratings</th>\n",
       "      <th>score</th>\n",
       "    </tr>\n",
       "  </thead>\n",
       "  <tbody>\n",
       "    <tr>\n",
       "      <th>228809</th>\n",
       "      <td>Founders Brewing Company</td>\n",
       "      <td>Breakfast Stout</td>\n",
       "      <td>American Imperial Stout</td>\n",
       "      <td>8.30</td>\n",
       "      <td>17331</td>\n",
       "      <td>4.51</td>\n",
       "    </tr>\n",
       "    <tr>\n",
       "      <th>164902</th>\n",
       "      <td>Dogfish Head Craft Brewery</td>\n",
       "      <td>90 Minute IPA</td>\n",
       "      <td>American Imperial IPA</td>\n",
       "      <td>9.00</td>\n",
       "      <td>16072</td>\n",
       "      <td>4.27</td>\n",
       "    </tr>\n",
       "    <tr>\n",
       "      <th>218953</th>\n",
       "      <td>Bell's Brewery - Eccentric Café &amp; General Store</td>\n",
       "      <td>Two Hearted Ale</td>\n",
       "      <td>American IPA</td>\n",
       "      <td>7.00</td>\n",
       "      <td>15074</td>\n",
       "      <td>4.27</td>\n",
       "    </tr>\n",
       "    <tr>\n",
       "      <th>19441</th>\n",
       "      <td>Russian River Brewing Company</td>\n",
       "      <td>Pliny The Elder</td>\n",
       "      <td>American Imperial IPA</td>\n",
       "      <td>8.00</td>\n",
       "      <td>15056</td>\n",
       "      <td>4.64</td>\n",
       "    </tr>\n",
       "    <tr>\n",
       "      <th>167115</th>\n",
       "      <td>The Alchemist</td>\n",
       "      <td>Heady Topper</td>\n",
       "      <td>New England IPA</td>\n",
       "      <td>8.00</td>\n",
       "      <td>14456</td>\n",
       "      <td>4.71</td>\n",
       "    </tr>\n",
       "    <tr>\n",
       "      <th>88346</th>\n",
       "      <td>Ballast Point Brewing Company</td>\n",
       "      <td>Sculpin</td>\n",
       "      <td>American IPA</td>\n",
       "      <td>7.00</td>\n",
       "      <td>14366</td>\n",
       "      <td>4.38</td>\n",
       "    </tr>\n",
       "    <tr>\n",
       "      <th>6699</th>\n",
       "      <td>Bell's Brewery - Eccentric Café &amp; General Store</td>\n",
       "      <td>Hopslam Ale</td>\n",
       "      <td>American Imperial IPA</td>\n",
       "      <td>10.00</td>\n",
       "      <td>13629</td>\n",
       "      <td>4.46</td>\n",
       "    </tr>\n",
       "    <tr>\n",
       "      <th>83300</th>\n",
       "      <td>Founders Brewing Company</td>\n",
       "      <td>KBS (Kentucky Breakfast Stout)</td>\n",
       "      <td>American Imperial Stout</td>\n",
       "      <td>12.30</td>\n",
       "      <td>13452</td>\n",
       "      <td>4.60</td>\n",
       "    </tr>\n",
       "    <tr>\n",
       "      <th>242922</th>\n",
       "      <td>Goose Island Beer Co.</td>\n",
       "      <td>Bourbon County Brand Stout</td>\n",
       "      <td>American Imperial Stout</td>\n",
       "      <td>15.20</td>\n",
       "      <td>12886</td>\n",
       "      <td>4.60</td>\n",
       "    </tr>\n",
       "    <tr>\n",
       "      <th>2321</th>\n",
       "      <td>North Coast Brewing Co.</td>\n",
       "      <td>Old Rasputin</td>\n",
       "      <td>Russian Imperial Stout</td>\n",
       "      <td>9.00</td>\n",
       "      <td>12634</td>\n",
       "      <td>4.30</td>\n",
       "    </tr>\n",
       "    <tr>\n",
       "      <th>55626</th>\n",
       "      <td>Dogfish Head Craft Brewery</td>\n",
       "      <td>60 Minute IPA</td>\n",
       "      <td>American IPA</td>\n",
       "      <td>6.00</td>\n",
       "      <td>11822</td>\n",
       "      <td>4.08</td>\n",
       "    </tr>\n",
       "    <tr>\n",
       "      <th>98170</th>\n",
       "      <td>Sierra Nevada Brewing Co.</td>\n",
       "      <td>Sierra Nevada Pale Ale</td>\n",
       "      <td>American Pale Ale (APA)</td>\n",
       "      <td>5.60</td>\n",
       "      <td>11745</td>\n",
       "      <td>4.03</td>\n",
       "    </tr>\n",
       "    <tr>\n",
       "      <th>28230</th>\n",
       "      <td>Stone Brewing Co. - Richmond</td>\n",
       "      <td>IPA</td>\n",
       "      <td>American IPA</td>\n",
       "      <td>6.90</td>\n",
       "      <td>11412</td>\n",
       "      <td>4.20</td>\n",
       "    </tr>\n",
       "    <tr>\n",
       "      <th>89177</th>\n",
       "      <td>Sierra Nevada Brewing Co.</td>\n",
       "      <td>Torpedo Extra IPA</td>\n",
       "      <td>American IPA</td>\n",
       "      <td>7.20</td>\n",
       "      <td>11321</td>\n",
       "      <td>4.15</td>\n",
       "    </tr>\n",
       "    <tr>\n",
       "      <th>82142</th>\n",
       "      <td>Stone Brewing Co. - Richmond</td>\n",
       "      <td>Enjoy By IPA</td>\n",
       "      <td>American Imperial IPA</td>\n",
       "      <td>9.40</td>\n",
       "      <td>11042</td>\n",
       "      <td>4.41</td>\n",
       "    </tr>\n",
       "    <tr>\n",
       "      <th>109106</th>\n",
       "      <td>Arrogant Consortia</td>\n",
       "      <td>Arrogant Bastard Ale</td>\n",
       "      <td>American Strong Ale</td>\n",
       "      <td>7.20</td>\n",
       "      <td>10881</td>\n",
       "      <td>4.15</td>\n",
       "    </tr>\n",
       "    <tr>\n",
       "      <th>106872</th>\n",
       "      <td>3 Floyds Brewing Co.</td>\n",
       "      <td>Zombie Dust</td>\n",
       "      <td>American Pale Ale (APA)</td>\n",
       "      <td>6.20</td>\n",
       "      <td>10617</td>\n",
       "      <td>4.58</td>\n",
       "    </tr>\n",
       "    <tr>\n",
       "      <th>222340</th>\n",
       "      <td>Sierra Nevada Brewing Co.</td>\n",
       "      <td>Celebration Fresh Hop IPA</td>\n",
       "      <td>American IPA</td>\n",
       "      <td>6.80</td>\n",
       "      <td>10559</td>\n",
       "      <td>4.15</td>\n",
       "    </tr>\n",
       "    <tr>\n",
       "      <th>101784</th>\n",
       "      <td>Lagunitas Brewing Company</td>\n",
       "      <td>Lagunitas Sucks</td>\n",
       "      <td>American Imperial IPA</td>\n",
       "      <td>7.85</td>\n",
       "      <td>10430</td>\n",
       "      <td>4.32</td>\n",
       "    </tr>\n",
       "    <tr>\n",
       "      <th>181850</th>\n",
       "      <td>Unibroue</td>\n",
       "      <td>La Fin Du Monde</td>\n",
       "      <td>Belgian Tripel</td>\n",
       "      <td>9.00</td>\n",
       "      <td>10357</td>\n",
       "      <td>4.32</td>\n",
       "    </tr>\n",
       "    <tr>\n",
       "      <th>158589</th>\n",
       "      <td>Oskar Blues Grill &amp; Brew</td>\n",
       "      <td>Ten FIDY</td>\n",
       "      <td>Russian Imperial Stout</td>\n",
       "      <td>10.50</td>\n",
       "      <td>10093</td>\n",
       "      <td>4.38</td>\n",
       "    </tr>\n",
       "  </tbody>\n",
       "</table>\n",
       "</div>"
      ],
      "text/plain": [
       "                                           brewery_name  \\\n",
       "228809                         Founders Brewing Company   \n",
       "164902                       Dogfish Head Craft Brewery   \n",
       "218953  Bell's Brewery - Eccentric Café & General Store   \n",
       "19441                     Russian River Brewing Company   \n",
       "167115                                    The Alchemist   \n",
       "88346                     Ballast Point Brewing Company   \n",
       "6699    Bell's Brewery - Eccentric Café & General Store   \n",
       "83300                          Founders Brewing Company   \n",
       "242922                            Goose Island Beer Co.   \n",
       "2321                            North Coast Brewing Co.   \n",
       "55626                        Dogfish Head Craft Brewery   \n",
       "98170                         Sierra Nevada Brewing Co.   \n",
       "28230                      Stone Brewing Co. - Richmond   \n",
       "89177                         Sierra Nevada Brewing Co.   \n",
       "82142                      Stone Brewing Co. - Richmond   \n",
       "109106                               Arrogant Consortia   \n",
       "106872                             3 Floyds Brewing Co.   \n",
       "222340                        Sierra Nevada Brewing Co.   \n",
       "101784                        Lagunitas Brewing Company   \n",
       "181850                                         Unibroue   \n",
       "158589                         Oskar Blues Grill & Brew   \n",
       "\n",
       "                             beer_name                    style    abv  \\\n",
       "228809                 Breakfast Stout  American Imperial Stout   8.30   \n",
       "164902                   90 Minute IPA    American Imperial IPA   9.00   \n",
       "218953                 Two Hearted Ale             American IPA   7.00   \n",
       "19441                  Pliny The Elder    American Imperial IPA   8.00   \n",
       "167115                    Heady Topper          New England IPA   8.00   \n",
       "88346                          Sculpin             American IPA   7.00   \n",
       "6699                       Hopslam Ale    American Imperial IPA  10.00   \n",
       "83300   KBS (Kentucky Breakfast Stout)  American Imperial Stout  12.30   \n",
       "242922      Bourbon County Brand Stout  American Imperial Stout  15.20   \n",
       "2321                      Old Rasputin   Russian Imperial Stout   9.00   \n",
       "55626                    60 Minute IPA             American IPA   6.00   \n",
       "98170           Sierra Nevada Pale Ale  American Pale Ale (APA)   5.60   \n",
       "28230                              IPA             American IPA   6.90   \n",
       "89177                Torpedo Extra IPA             American IPA   7.20   \n",
       "82142                     Enjoy By IPA    American Imperial IPA   9.40   \n",
       "109106            Arrogant Bastard Ale      American Strong Ale   7.20   \n",
       "106872                     Zombie Dust  American Pale Ale (APA)   6.20   \n",
       "222340       Celebration Fresh Hop IPA             American IPA   6.80   \n",
       "101784                 Lagunitas Sucks    American Imperial IPA   7.85   \n",
       "181850                 La Fin Du Monde           Belgian Tripel   9.00   \n",
       "158589                        Ten FIDY   Russian Imperial Stout  10.50   \n",
       "\n",
       "        ratings  score  \n",
       "228809    17331   4.51  \n",
       "164902    16072   4.27  \n",
       "218953    15074   4.27  \n",
       "19441     15056   4.64  \n",
       "167115    14456   4.71  \n",
       "88346     14366   4.38  \n",
       "6699      13629   4.46  \n",
       "83300     13452   4.60  \n",
       "242922    12886   4.60  \n",
       "2321      12634   4.30  \n",
       "55626     11822   4.08  \n",
       "98170     11745   4.03  \n",
       "28230     11412   4.20  \n",
       "89177     11321   4.15  \n",
       "82142     11042   4.41  \n",
       "109106    10881   4.15  \n",
       "106872    10617   4.58  \n",
       "222340    10559   4.15  \n",
       "101784    10430   4.32  \n",
       "181850    10357   4.32  \n",
       "158589    10093   4.38  "
      ]
     },
     "execution_count": 10,
     "metadata": {},
     "output_type": "execute_result"
    }
   ],
   "source": [
    "df[df['ratings'] > 10000].sort_values('ratings', ascending=False)"
   ]
  },
  {
   "cell_type": "markdown",
   "metadata": {},
   "source": [
    "Visualize a linear regression."
   ]
  },
  {
   "cell_type": "code",
   "execution_count": 16,
   "metadata": {},
   "outputs": [
    {
     "data": {
      "text/plain": [
       "<matplotlib.axes._subplots.AxesSubplot at 0x15544430470>"
      ]
     },
     "execution_count": 16,
     "metadata": {},
     "output_type": "execute_result"
    },
    {
     "data": {
      "image/png": "[encoded data removed]",
      "text/plain": [
       "<Figure size 432x288 with 1 Axes>"
      ]
     },
     "metadata": {
      "needs_background": "light"
     },
     "output_type": "display_data"
    }
   ],
   "source": [
    "sns.regplot('ratings','score',data=df,line_kws={'color': 'red'})"
   ]
  }
 ],
 "metadata": {
  "kernelspec": {
   "display_name": "Python 3",
   "language": "python",
   "name": "python3"
  },
  "language_info": {
   "codemirror_mode": {
    "name": "ipython",
    "version": 3
   },
   "file_extension": ".py",
   "mimetype": "text/x-python",
   "name": "python",
   "nbconvert_exporter": "python",
   "pygments_lexer": "ipython3",
   "version": "3.7.2"
  }
 },
 "nbformat": 4,
 "nbformat_minor": 2
}
