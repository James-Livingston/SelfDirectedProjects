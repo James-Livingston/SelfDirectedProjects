{
 "cells": [
  {
   "cell_type": "markdown",
   "metadata": {},
   "source": [
    "# Styles of Beers"
   ]
  },
  {
   "cell_type": "markdown",
   "metadata": {},
   "source": [
    "### Import the necessary libraries"
   ]
  },
  {
   "cell_type": "code",
   "execution_count": 1,
   "metadata": {},
   "outputs": [],
   "source": [
    "import pandas as pd\n",
    "import seaborn as sns\n",
    "import pyodbc"
   ]
  },
  {
   "cell_type": "markdown",
   "metadata": {},
   "source": [
    "### Query data from SQL Server\n",
    "A beer can be associate with multiple locations.  For example, a beer can be sold at a brewery and a taproom.  Thus, the beer records are grouped by their URL which is a unique identifier for each beer."
   ]
  },
  {
   "cell_type": "code",
   "execution_count": 93,
   "metadata": {},
   "outputs": [
    {
     "data": {
      "text/html": [
       "<div>\n",
       "<style scoped>\n",
       "    .dataframe tbody tr th:only-of-type {\n",
       "        vertical-align: middle;\n",
       "    }\n",
       "\n",
       "    .dataframe tbody tr th {\n",
       "        vertical-align: top;\n",
       "    }\n",
       "\n",
       "    .dataframe thead th {\n",
       "        text-align: right;\n",
       "    }\n",
       "</style>\n",
       "<table border=\"1\" class=\"dataframe\">\n",
       "  <thead>\n",
       "    <tr style=\"text-align: right;\">\n",
       "      <th></th>\n",
       "      <th>brewery_name</th>\n",
       "      <th>beer_name</th>\n",
       "      <th>style</th>\n",
       "      <th>abv</th>\n",
       "      <th>ratings</th>\n",
       "      <th>score</th>\n",
       "    </tr>\n",
       "  </thead>\n",
       "  <tbody>\n",
       "    <tr>\n",
       "      <th>0</th>\n",
       "      <td>John Smith's Brewery (Heineken UK)</td>\n",
       "      <td>John Smith's Magnet</td>\n",
       "      <td>English Bitter</td>\n",
       "      <td>4.00</td>\n",
       "      <td>1</td>\n",
       "      <td>3.73</td>\n",
       "    </tr>\n",
       "    <tr>\n",
       "      <th>1</th>\n",
       "      <td>Urban Family Brewing Co.</td>\n",
       "      <td>Delusions Of Grandeur</td>\n",
       "      <td>American IPA</td>\n",
       "      <td>5.70</td>\n",
       "      <td>3</td>\n",
       "      <td>4.20</td>\n",
       "    </tr>\n",
       "    <tr>\n",
       "      <th>2</th>\n",
       "      <td>Tired Hands Brewing Company</td>\n",
       "      <td>Albino Slug</td>\n",
       "      <td>American Imperial IPA</td>\n",
       "      <td>8.60</td>\n",
       "      <td>24</td>\n",
       "      <td>4.26</td>\n",
       "    </tr>\n",
       "    <tr>\n",
       "      <th>3</th>\n",
       "      <td>MIA Beer Co.</td>\n",
       "      <td>Date Night</td>\n",
       "      <td>Fruit and Field Beer</td>\n",
       "      <td>9.00</td>\n",
       "      <td>3</td>\n",
       "      <td>3.59</td>\n",
       "    </tr>\n",
       "    <tr>\n",
       "      <th>4</th>\n",
       "      <td>Holy Mountain Brewing Company</td>\n",
       "      <td>Nelson Extra Pale</td>\n",
       "      <td>American Pale Ale (APA)</td>\n",
       "      <td>5.00</td>\n",
       "      <td>2</td>\n",
       "      <td>4.12</td>\n",
       "    </tr>\n",
       "  </tbody>\n",
       "</table>\n",
       "</div>"
      ],
      "text/plain": [
       "                         brewery_name              beer_name  \\\n",
       "0  John Smith's Brewery (Heineken UK)    John Smith's Magnet   \n",
       "1            Urban Family Brewing Co.  Delusions Of Grandeur   \n",
       "2         Tired Hands Brewing Company            Albino Slug   \n",
       "3                        MIA Beer Co.             Date Night   \n",
       "4       Holy Mountain Brewing Company      Nelson Extra Pale   \n",
       "\n",
       "                     style   abv  ratings  score  \n",
       "0           English Bitter  4.00        1   3.73  \n",
       "1             American IPA  5.70        3   4.20  \n",
       "2    American Imperial IPA  8.60       24   4.26  \n",
       "3     Fruit and Field Beer  9.00        3   3.59  \n",
       "4  American Pale Ale (APA)  5.00        2   4.12  "
      ]
     },
     "execution_count": 93,
     "metadata": {},
     "output_type": "execute_result"
    }
   ],
   "source": [
    "sql_conn = pyodbc.connect('DRIVER={ODBC Driver 13 for SQL Server};SERVER=localhost;DATABASE=BA;Trusted_Connection=yes') \n",
    "query = '''\n",
    "SELECT MAX(BR.name) AS 'brewery_name', MAX(B.name) AS 'beer_name', MAX(style) AS style, MAX(abv) AS abv, MAX(B.ratings) AS ratings, MAX(B.score) AS score\n",
    "FROM beers B\n",
    "LEFT JOIN breweries BR ON B.brewery_id = BR.brewery_id\n",
    "GROUP BY [url]'''\n",
    "df = pd.read_sql(query, sql_conn)\n",
    "\n",
    "df.head(5)"
   ]
  },
  {
   "cell_type": "markdown",
   "metadata": {},
   "source": [
    "### How many beer styles?"
   ]
  },
  {
   "cell_type": "code",
   "execution_count": 94,
   "metadata": {},
   "outputs": [
    {
     "data": {
      "text/plain": [
       "112"
      ]
     },
     "execution_count": 94,
     "metadata": {},
     "output_type": "execute_result"
    }
   ],
   "source": [
    "len(df['style'].unique())"
   ]
  },
  {
   "cell_type": "markdown",
   "metadata": {},
   "source": [
    "What are the most popular styles?"
   ]
  },
  {
   "cell_type": "code",
   "execution_count": 95,
   "metadata": {},
   "outputs": [
    {
     "data": {
      "text/html": [
       "<div>\n",
       "<style scoped>\n",
       "    .dataframe tbody tr th:only-of-type {\n",
       "        vertical-align: middle;\n",
       "    }\n",
       "\n",
       "    .dataframe tbody tr th {\n",
       "        vertical-align: top;\n",
       "    }\n",
       "\n",
       "    .dataframe thead th {\n",
       "        text-align: right;\n",
       "    }\n",
       "</style>\n",
       "<table border=\"1\" class=\"dataframe\">\n",
       "  <thead>\n",
       "    <tr style=\"text-align: right;\">\n",
       "      <th></th>\n",
       "      <th>brewery_name</th>\n",
       "      <th>beer_name</th>\n",
       "      <th>abv</th>\n",
       "      <th>ratings</th>\n",
       "      <th>score</th>\n",
       "    </tr>\n",
       "    <tr>\n",
       "      <th>style</th>\n",
       "      <th></th>\n",
       "      <th></th>\n",
       "      <th></th>\n",
       "      <th></th>\n",
       "      <th></th>\n",
       "    </tr>\n",
       "  </thead>\n",
       "  <tbody>\n",
       "    <tr>\n",
       "      <th>American IPA</th>\n",
       "      <td>32210</td>\n",
       "      <td>32210</td>\n",
       "      <td>32210</td>\n",
       "      <td>32210</td>\n",
       "      <td>32210</td>\n",
       "    </tr>\n",
       "    <tr>\n",
       "      <th>American Pale Ale (APA)</th>\n",
       "      <td>15458</td>\n",
       "      <td>15458</td>\n",
       "      <td>15458</td>\n",
       "      <td>15458</td>\n",
       "      <td>15458</td>\n",
       "    </tr>\n",
       "    <tr>\n",
       "      <th>American Imperial IPA</th>\n",
       "      <td>13266</td>\n",
       "      <td>13266</td>\n",
       "      <td>13266</td>\n",
       "      <td>13266</td>\n",
       "      <td>13266</td>\n",
       "    </tr>\n",
       "    <tr>\n",
       "      <th>Belgian Saison</th>\n",
       "      <td>10990</td>\n",
       "      <td>10990</td>\n",
       "      <td>10990</td>\n",
       "      <td>10990</td>\n",
       "      <td>10990</td>\n",
       "    </tr>\n",
       "    <tr>\n",
       "      <th>American Wild Ale</th>\n",
       "      <td>7559</td>\n",
       "      <td>7559</td>\n",
       "      <td>7559</td>\n",
       "      <td>7559</td>\n",
       "      <td>7559</td>\n",
       "    </tr>\n",
       "  </tbody>\n",
       "</table>\n",
       "</div>"
      ],
      "text/plain": [
       "                         brewery_name  beer_name    abv  ratings  score\n",
       "style                                                                  \n",
       "American IPA                    32210      32210  32210    32210  32210\n",
       "American Pale Ale (APA)         15458      15458  15458    15458  15458\n",
       "American Imperial IPA           13266      13266  13266    13266  13266\n",
       "Belgian Saison                  10990      10990  10990    10990  10990\n",
       "American Wild Ale                7559       7559   7559     7559   7559"
      ]
     },
     "execution_count": 95,
     "metadata": {},
     "output_type": "execute_result"
    }
   ],
   "source": [
    "styles = df.groupby('style').count()\n",
    "\n",
    "styles.sort_values('beer_name', ascending=False).head(5)"
   ]
  },
  {
   "cell_type": "markdown",
   "metadata": {},
   "source": [
    "IPAs and pale ales are currently very popular.  And the least popular styles?"
   ]
  },
  {
   "cell_type": "code",
   "execution_count": 96,
   "metadata": {},
   "outputs": [
    {
     "data": {
      "text/html": [
       "<div>\n",
       "<style scoped>\n",
       "    .dataframe tbody tr th:only-of-type {\n",
       "        vertical-align: middle;\n",
       "    }\n",
       "\n",
       "    .dataframe tbody tr th {\n",
       "        vertical-align: top;\n",
       "    }\n",
       "\n",
       "    .dataframe thead th {\n",
       "        text-align: right;\n",
       "    }\n",
       "</style>\n",
       "<table border=\"1\" class=\"dataframe\">\n",
       "  <thead>\n",
       "    <tr style=\"text-align: right;\">\n",
       "      <th></th>\n",
       "      <th>brewery_name</th>\n",
       "      <th>beer_name</th>\n",
       "      <th>abv</th>\n",
       "      <th>ratings</th>\n",
       "      <th>score</th>\n",
       "    </tr>\n",
       "    <tr>\n",
       "      <th>style</th>\n",
       "      <th></th>\n",
       "      <th></th>\n",
       "      <th></th>\n",
       "      <th></th>\n",
       "      <th></th>\n",
       "    </tr>\n",
       "  </thead>\n",
       "  <tbody>\n",
       "    <tr>\n",
       "      <th>Wild/Sour Beers</th>\n",
       "      <td>4</td>\n",
       "      <td>4</td>\n",
       "      <td>4</td>\n",
       "      <td>4</td>\n",
       "      <td>4</td>\n",
       "    </tr>\n",
       "    <tr>\n",
       "      <th>Belgian Faro</th>\n",
       "      <td>16</td>\n",
       "      <td>16</td>\n",
       "      <td>16</td>\n",
       "      <td>16</td>\n",
       "      <td>16</td>\n",
       "    </tr>\n",
       "    <tr>\n",
       "      <th>Japanese Happoshu</th>\n",
       "      <td>67</td>\n",
       "      <td>67</td>\n",
       "      <td>67</td>\n",
       "      <td>67</td>\n",
       "      <td>67</td>\n",
       "    </tr>\n",
       "    <tr>\n",
       "      <th>Finnish Sahti</th>\n",
       "      <td>71</td>\n",
       "      <td>71</td>\n",
       "      <td>71</td>\n",
       "      <td>71</td>\n",
       "      <td>71</td>\n",
       "    </tr>\n",
       "    <tr>\n",
       "      <th>Bière de Champagne / Bière Brut</th>\n",
       "      <td>75</td>\n",
       "      <td>75</td>\n",
       "      <td>75</td>\n",
       "      <td>75</td>\n",
       "      <td>75</td>\n",
       "    </tr>\n",
       "  </tbody>\n",
       "</table>\n",
       "</div>"
      ],
      "text/plain": [
       "                                 brewery_name  beer_name  abv  ratings  score\n",
       "style                                                                        \n",
       "Wild/Sour Beers                             4          4    4        4      4\n",
       "Belgian Faro                               16         16   16       16     16\n",
       "Japanese Happoshu                          67         67   67       67     67\n",
       "Finnish Sahti                              71         71   71       71     71\n",
       "Bière de Champagne / Bière Brut            75         75   75       75     75"
      ]
     },
     "execution_count": 96,
     "metadata": {},
     "output_type": "execute_result"
    }
   ],
   "source": [
    "styles.sort_values('beer_name', ascending=True).head(5)"
   ]
  },
  {
   "cell_type": "markdown",
   "metadata": {},
   "source": [
    "For each style of beer, calculate the number of beers, average rating, and average score."
   ]
  },
  {
   "cell_type": "code",
   "execution_count": 99,
   "metadata": {},
   "outputs": [
    {
     "data": {
      "text/html": [
       "<div>\n",
       "<style scoped>\n",
       "    .dataframe tbody tr th:only-of-type {\n",
       "        vertical-align: middle;\n",
       "    }\n",
       "\n",
       "    .dataframe tbody tr th {\n",
       "        vertical-align: top;\n",
       "    }\n",
       "\n",
       "    .dataframe thead th {\n",
       "        text-align: right;\n",
       "    }\n",
       "</style>\n",
       "<table border=\"1\" class=\"dataframe\">\n",
       "  <thead>\n",
       "    <tr style=\"text-align: right;\">\n",
       "      <th></th>\n",
       "      <th>number_of_beers</th>\n",
       "      <th>avg_number_of_ratings</th>\n",
       "      <th>avg_score</th>\n",
       "    </tr>\n",
       "    <tr>\n",
       "      <th>style</th>\n",
       "      <th></th>\n",
       "      <th></th>\n",
       "      <th></th>\n",
       "    </tr>\n",
       "  </thead>\n",
       "  <tbody>\n",
       "    <tr>\n",
       "      <th>American Adjunct Lager</th>\n",
       "      <td>1294</td>\n",
       "      <td>79.635240</td>\n",
       "      <td>2.598895</td>\n",
       "    </tr>\n",
       "    <tr>\n",
       "      <th>American Amber / Red Ale</th>\n",
       "      <td>6727</td>\n",
       "      <td>21.209454</td>\n",
       "      <td>2.986061</td>\n",
       "    </tr>\n",
       "    <tr>\n",
       "      <th>American Amber / Red Lager</th>\n",
       "      <td>778</td>\n",
       "      <td>47.104113</td>\n",
       "      <td>2.956517</td>\n",
       "    </tr>\n",
       "    <tr>\n",
       "      <th>American Barleywine</th>\n",
       "      <td>1631</td>\n",
       "      <td>42.675046</td>\n",
       "      <td>3.409252</td>\n",
       "    </tr>\n",
       "    <tr>\n",
       "      <th>American Black Ale</th>\n",
       "      <td>2688</td>\n",
       "      <td>23.877604</td>\n",
       "      <td>3.275930</td>\n",
       "    </tr>\n",
       "  </tbody>\n",
       "</table>\n",
       "</div>"
      ],
      "text/plain": [
       "                            number_of_beers  avg_number_of_ratings  avg_score\n",
       "style                                                                        \n",
       "American Adjunct Lager                 1294              79.635240   2.598895\n",
       "American Amber / Red Ale               6727              21.209454   2.986061\n",
       "American Amber / Red Lager              778              47.104113   2.956517\n",
       "American Barleywine                    1631              42.675046   3.409252\n",
       "American Black Ale                     2688              23.877604   3.275930"
      ]
     },
     "execution_count": 99,
     "metadata": {},
     "output_type": "execute_result"
    }
   ],
   "source": [
    "avg = df[['style','beer_name']].groupby('style').count()\n",
    "avg.rename(columns={'beer_name': 'number_of_beers'}, inplace=True)\n",
    "avg['avg_number_of_ratings'] = df[['style','ratings']].groupby('style').mean()\n",
    "avg['avg_score'] = df[['style','score']].groupby('style').mean()\n",
    "\n",
    "avg.head()"
   ]
  },
  {
   "cell_type": "code",
   "execution_count": 103,
   "metadata": {},
   "outputs": [
    {
     "data": {
      "text/plain": [
       "<seaborn.axisgrid.PairGrid at 0x20d12d1d358>"
      ]
     },
     "execution_count": 103,
     "metadata": {},
     "output_type": "execute_result"
    },
    {
     "data": {
      "image/png": "[encoded data removed]",
      "text/plain": [
       "<Figure size 540x540 with 12 Axes>"
      ]
     },
     "metadata": {
      "needs_background": "light"
     },
     "output_type": "display_data"
    }
   ],
   "source": [
    "# To get a better picture of our data, drop the styles that don't have 100 or more beers\n",
    "avg.drop(avg[avg['number_of_beers'] < 100].index, inplace=True)\n",
    "\n",
    "# Drop styles that have over 30,000 beers, which is the American IPA\n",
    "avg.drop(avg[avg['number_of_beers'] > 30000].index, inplace=True)\n",
    "\n",
    "sns.pairplot(avg)"
   ]
  },
  {
   "cell_type": "markdown",
   "metadata": {},
   "source": [
    "Similar to the original data exploration, we can see that there is a slight upward trend between the average number of ratings for a style and the average score for a style."
   ]
  }
 ],
 "metadata": {
  "kernelspec": {
   "display_name": "Python 3",
   "language": "python",
   "name": "python3"
  },
  "language_info": {
   "codemirror_mode": {
    "name": "ipython",
    "version": 3
   },
   "file_extension": ".py",
   "mimetype": "text/x-python",
   "name": "python",
   "nbconvert_exporter": "python",
   "pygments_lexer": "ipython3",
   "version": "3.7.2"
  }
 },
 "nbformat": 4,
 "nbformat_minor": 2
}
