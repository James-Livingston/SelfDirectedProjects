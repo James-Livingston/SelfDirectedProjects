{
 "cells": [
  {
   "cell_type": "markdown",
   "metadata": {},
   "source": [
    "# Data Augmentation With Gaussian Mixture Models\n",
    "\n",
    "### Summary\n",
    "\n",
    "Imbalanced data can affect the accuracy of machine learning models.  Here, we will augment our data using a Gaussian Mixture Model as a means of improving model accuracy.\n",
    "\n",
    "In this notebook, we will intentionally create an imbalanced dataset.  Then, we will augment the imbalanced dataset and observe the impact on model performance."
   ]
  },
  {
   "cell_type": "markdown",
   "metadata": {},
   "source": [
    "### Data Preparation\n",
    "\n",
    "Import common libraries"
   ]
  },
  {
   "cell_type": "code",
   "execution_count": 4,
   "metadata": {},
   "outputs": [],
   "source": [
    "from sklearn.datasets import load_digits\n",
    "import numpy as np\n",
    "import matplotlib.pyplot as plt\n",
    "from sklearn.model_selection import train_test_split\n",
    "from sklearn import datasets, svm, metrics\n",
    "\n",
    "from sklearn.mixture import GaussianMixture"
   ]
  },
  {
   "cell_type": "markdown",
   "metadata": {},
   "source": [
    "Our exercise dataset will be the digits dataset provided by the Sci-Kit Learn library."
   ]
  },
  {
   "cell_type": "code",
   "execution_count": 5,
   "metadata": {},
   "outputs": [],
   "source": [
    "digits = load_digits()\n",
    "\n",
    "# Create structures for data and labels.\n",
    "all_data = digits.data\n",
    "all_labels = digits.target"
   ]
  },
  {
   "cell_type": "markdown",
   "metadata": {},
   "source": [
    "We will divide our data into training and test sets."
   ]
  },
  {
   "cell_type": "code",
   "execution_count": 7,
   "metadata": {},
   "outputs": [],
   "source": [
    "X_train, X_test, y_train, y_test = train_test_split(all_data, all_labels, test_size=0.5, random_state=10)"
   ]
  },
  {
   "cell_type": "markdown",
   "metadata": {},
   "source": [
    "### Creating Imbalance\n",
    "\n",
    "To create imbalance in our training dataset, we will remove most of the images for the digit 8.\n",
    "\n",
    "We start with 90 images in our training set and will reduce that to 10 images."
   ]
  },
  {
   "cell_type": "code",
   "execution_count": 10,
   "metadata": {},
   "outputs": [
    {
     "data": {
      "text/plain": [
       "90"
      ]
     },
     "execution_count": 10,
     "metadata": {},
     "output_type": "execute_result"
    }
   ],
   "source": [
    "# Assigning our target digit to a variable avoids hardcoding\n",
    "target_digit = 8\n",
    "\n",
    "# How many do we have to start?\n",
    "len([i for i in y_train if i == target_digit])"
   ]
  },
  {
   "cell_type": "code",
   "execution_count": 11,
   "metadata": {},
   "outputs": [],
   "source": [
    "# Limit represents the number of images we want to keep\n",
    "limit = 10\n",
    "\n",
    "# Data structures to store our imbalanced dataset\n",
    "reduced_y_train = []\n",
    "reduced_X_train = []\n",
    "\n",
    "# Loop through the training set, \n",
    "for index in range(len(y_train)):\n",
    "    \n",
    "    if y_train[index] == target_digit:\n",
    "        \n",
    "        #  Keep target digits up to the limit\n",
    "        if limit > 0:\n",
    "            limit = limit - 1\n",
    "            reduced_y_train.append(y_train[index])\n",
    "            reduced_X_train.append(X_train[index])\n",
    "        \n",
    "        # Discard target digits after the limit\n",
    "        else:\n",
    "            doNothing = True\n",
    "    \n",
    "    # Keep anything that isn't a target digit\n",
    "    else:\n",
    "        reduced_y_train.append(y_train[index])\n",
    "        reduced_X_train.append(X_train[index])"
   ]
  },
  {
   "cell_type": "code",
   "execution_count": 12,
   "metadata": {},
   "outputs": [
    {
     "data": {
      "text/plain": [
       "10"
      ]
     },
     "execution_count": 12,
     "metadata": {},
     "output_type": "execute_result"
    }
   ],
   "source": [
    "# Number of target digits after the imbalancing\n",
    "len([i for i in reduced_y_train if i == target_digit])"
   ]
  },
  {
   "cell_type": "markdown",
   "metadata": {},
   "source": [
    "### Model Training on the Imbalanced Dataset\n",
    "\n",
    "With an imbalanced dataset prepared, we will now train a Support Vector Machine (SVM) model to classify the digits."
   ]
  },
  {
   "cell_type": "code",
   "execution_count": 15,
   "metadata": {},
   "outputs": [
    {
     "name": "stdout",
     "output_type": "stream",
     "text": [
      "              precision    recall  f1-score   support\n",
      "\n",
      "           0       1.00      1.00      1.00        81\n",
      "           1       0.84      1.00      0.92        92\n",
      "           2       0.99      1.00      0.99        91\n",
      "           3       0.90      0.99      0.94        90\n",
      "           4       0.98      1.00      0.99        84\n",
      "           5       0.94      0.98      0.96        97\n",
      "           6       0.99      0.98      0.98        94\n",
      "           7       0.98      1.00      0.99        98\n",
      "           8       1.00      0.35      0.51        84\n",
      "           9       0.79      0.98      0.87        88\n",
      "\n",
      "   micro avg       0.93      0.93      0.93       899\n",
      "   macro avg       0.94      0.93      0.92       899\n",
      "weighted avg       0.94      0.93      0.92       899\n",
      "\n"
     ]
    }
   ],
   "source": [
    "# Declare an SVM\n",
    "classifier = svm.SVC(gamma=0.001)\n",
    "\n",
    "# Fit the model to the imbalanced dataset\n",
    "classifier.fit(reduced_X_train, reduced_y_train)\n",
    "\n",
    "# Test our model\n",
    "predicted = classifier.predict(X_test)\n",
    "\n",
    "# Accuracy report\n",
    "print(metrics.classification_report(y_test, predicted))"
   ]
  },
  {
   "cell_type": "markdown",
   "metadata": {},
   "source": [
    "As expected our "
   ]
  },
  {
   "cell_type": "code",
   "execution_count": 32,
   "metadata": {},
   "outputs": [
    {
     "data": {
      "text/plain": [
       "(10, 64)"
      ]
     },
     "execution_count": 32,
     "metadata": {},
     "output_type": "execute_result"
    }
   ],
   "source": [
    "eights = [reduced_X_train[index] for index, i in enumerate(reduced_y_train) if i == 8]\n",
    "eights = np.array(eights)\n",
    "eights.shape"
   ]
  },
  {
   "cell_type": "code",
   "execution_count": 33,
   "metadata": {},
   "outputs": [],
   "source": [
    "from sklearn.decomposition import PCA\n",
    "pca = PCA(0.99, whiten=True)\n",
    "data = pca.fit_transform(eights)"
   ]
  },
  {
   "cell_type": "code",
   "execution_count": 36,
   "metadata": {},
   "outputs": [
    {
     "data": {
      "image/png": "[encoded data removed]",
      "text/plain": [
       "<Figure size 432x288 with 1 Axes>"
      ]
     },
     "metadata": {
      "needs_background": "light"
     },
     "output_type": "display_data"
    }
   ],
   "source": [
    "\n",
    "n_components = np.arange(1, 10, 1)\n",
    "models = [GaussianMixture(n, covariance_type='full', random_state=0) for n in n_components]\n",
    "aics = [model.fit(data).aic(data) for model in models]\n",
    "plt.plot(n_components, aics);"
   ]
  },
  {
   "cell_type": "code",
   "execution_count": 37,
   "metadata": {},
   "outputs": [
    {
     "name": "stdout",
     "output_type": "stream",
     "text": [
      "True\n"
     ]
    }
   ],
   "source": [
    "gmm = GaussianMixture(3, covariance_type='full', random_state=0)\n",
    "gmm.fit(data)\n",
    "print(gmm.converged_)"
   ]
  },
  {
   "cell_type": "code",
   "execution_count": 38,
   "metadata": {},
   "outputs": [
    {
     "data": {
      "text/plain": [
       "(9,)"
      ]
     },
     "execution_count": 38,
     "metadata": {},
     "output_type": "execute_result"
    }
   ],
   "source": [
    "data_new = gmm.sample(100)\n",
    "np.array(data_new[0][0]).shape"
   ]
  },
  {
   "cell_type": "code",
   "execution_count": 40,
   "metadata": {},
   "outputs": [],
   "source": [
    "def plot_digits(data):\n",
    "    fig, ax = plt.subplots(10, 10, figsize=(8, 8),\n",
    "                           subplot_kw=dict(xticks=[], yticks=[]))\n",
    "    fig.subplots_adjust(hspace=0.05, wspace=0.05)\n",
    "    for i, axi in enumerate(ax.flat):\n",
    "        im = axi.imshow(data[i].reshape(8, 8), cmap='binary')\n",
    "        im.set_clim(0, 16)"
   ]
  },
  {
   "cell_type": "code",
   "execution_count": 41,
   "metadata": {},
   "outputs": [
    {
     "data": {
      "image/png": "[encoded data removed]",
      "text/plain": [
       "<Figure size 576x576 with 100 Axes>"
      ]
     },
     "metadata": {},
     "output_type": "display_data"
    }
   ],
   "source": [
    "digits_new = pca.inverse_transform(data_new[0])\n",
    "plot_digits(digits_new)"
   ]
  },
  {
   "cell_type": "code",
   "execution_count": 67,
   "metadata": {},
   "outputs": [
    {
     "data": {
      "text/plain": [
       "(918, 64)"
      ]
     },
     "execution_count": 67,
     "metadata": {},
     "output_type": "execute_result"
    }
   ],
   "source": [
    "augmented_X_train = np.concatenate((reduced_X_train, digits_new))\n",
    "augmented_X_train.shape"
   ]
  },
  {
   "cell_type": "code",
   "execution_count": 69,
   "metadata": {},
   "outputs": [
    {
     "data": {
      "text/plain": [
       "(918,)"
      ]
     },
     "execution_count": 69,
     "metadata": {},
     "output_type": "execute_result"
    }
   ],
   "source": [
    "augmented_y_train = np.concatenate((reduced_y_train, [8]*digits_new.shape[0]))\n",
    "augmented_y_train.shape"
   ]
  },
  {
   "cell_type": "code",
   "execution_count": 70,
   "metadata": {},
   "outputs": [
    {
     "name": "stdout",
     "output_type": "stream",
     "text": [
      "Classification report for classifier SVC(C=1.0, cache_size=200, class_weight=None, coef0=0.0,\n",
      "    decision_function_shape='ovr', degree=3, gamma=0.001, kernel='rbf',\n",
      "    max_iter=-1, probability=False, random_state=None, shrinking=True,\n",
      "    tol=0.001, verbose=False):\n",
      "              precision    recall  f1-score   support\n",
      "\n",
      "           0       1.00      1.00      1.00        81\n",
      "           1       0.93      1.00      0.96        92\n",
      "           2       0.99      1.00      0.99        91\n",
      "           3       0.93      0.99      0.96        90\n",
      "           4       0.99      1.00      0.99        84\n",
      "           5       0.94      0.98      0.96        97\n",
      "           6       0.99      0.98      0.98        94\n",
      "           7       0.99      1.00      0.99        98\n",
      "           8       1.00      0.70      0.83        84\n",
      "           9       0.91      0.98      0.95        88\n",
      "\n",
      "    accuracy                           0.96       899\n",
      "   macro avg       0.97      0.96      0.96       899\n",
      "weighted avg       0.97      0.96      0.96       899\n",
      "\n",
      "\n"
     ]
    }
   ],
   "source": [
    "# Create a classifier: a support vector classifier\n",
    "augmented_classifier = svm.SVC(gamma=0.001)\n",
    "\n",
    "# We learn the digits on the first half of the digits\n",
    "augmented_classifier.fit(augmented_X_train, augmented_y_train)\n",
    "\n",
    "# Now predict the value of the digit on the second half:\n",
    "predicted = augmented_classifier.predict(X_test)\n",
    "\n",
    "print(\"Classification report for classifier %s:\\n%s\\n\"\n",
    "      % (classifier, metrics.classification_report(y_test, predicted)))"
   ]
  },
  {
   "cell_type": "code",
   "execution_count": null,
   "metadata": {},
   "outputs": [],
   "source": []
  }
 ],
 "metadata": {
  "kernelspec": {
   "display_name": "Python 3",
   "language": "python",
   "name": "python3"
  },
  "language_info": {
   "codemirror_mode": {
    "name": "ipython",
    "version": 3
   },
   "file_extension": ".py",
   "mimetype": "text/x-python",
   "name": "python",
   "nbconvert_exporter": "python",
   "pygments_lexer": "ipython3",
   "version": "3.7.2"
  }
 },
 "nbformat": 4,
 "nbformat_minor": 2
}
