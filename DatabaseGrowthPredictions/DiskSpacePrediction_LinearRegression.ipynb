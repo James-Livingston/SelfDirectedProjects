{
 "cells": [
  {
   "cell_type": "markdown",
   "metadata": {},
   "source": [
    "# Predicting Database Capacity\n",
    "\n",
    "### Summary\n",
    "\n",
    "When managing a small amount of databases, a simple database growth chart is an effective tool for capacity planning.  However, as an environment growth into the 100s or 1000s of databases, performing chart based capacity planning can be very tedious.\n",
    "\n",
    "Machine learning can be an effective tool for automatically calculating growth trends and predicting database growth."
   ]
  },
  {
   "cell_type": "markdown",
   "metadata": {},
   "source": [
    "### Data Preparation\n",
    "\n",
    "Import common libraries."
   ]
  },
  {
   "cell_type": "code",
   "execution_count": 28,
   "metadata": {},
   "outputs": [],
   "source": [
    "import pandas as pd\n",
    "from sklearn import linear_model\n",
    "from sklearn.model_selection import cross_val_score, train_test_split\n",
    "import matplotlib.pyplot as plt"
   ]
  },
  {
   "cell_type": "markdown",
   "metadata": {},
   "source": [
    "Here we will import a CSV file of database size readings.  This CSV is an extract from an enterprise monitoring tool and is used for this demonstration only.  In production, you should consider connecting to your enterprise monitoring tool directly."
   ]
  },
  {
   "cell_type": "code",
   "execution_count": 29,
   "metadata": {},
   "outputs": [
    {
     "data": {
      "text/html": [
       "<div>\n",
       "<style scoped>\n",
       "    .dataframe tbody tr th:only-of-type {\n",
       "        vertical-align: middle;\n",
       "    }\n",
       "\n",
       "    .dataframe tbody tr th {\n",
       "        vertical-align: top;\n",
       "    }\n",
       "\n",
       "    .dataframe thead th {\n",
       "        text-align: right;\n",
       "    }\n",
       "</style>\n",
       "<table border=\"1\" class=\"dataframe\">\n",
       "  <thead>\n",
       "    <tr style=\"text-align: right;\">\n",
       "      <th></th>\n",
       "      <th>ReadDate</th>\n",
       "      <th>GBUsed</th>\n",
       "    </tr>\n",
       "  </thead>\n",
       "  <tbody>\n",
       "    <tr>\n",
       "      <th>0</th>\n",
       "      <td>4/10/2019</td>\n",
       "      <td>9193</td>\n",
       "    </tr>\n",
       "    <tr>\n",
       "      <th>1</th>\n",
       "      <td>4/9/2019</td>\n",
       "      <td>9184</td>\n",
       "    </tr>\n",
       "    <tr>\n",
       "      <th>2</th>\n",
       "      <td>4/8/2019</td>\n",
       "      <td>9183</td>\n",
       "    </tr>\n",
       "    <tr>\n",
       "      <th>3</th>\n",
       "      <td>4/7/2019</td>\n",
       "      <td>9183</td>\n",
       "    </tr>\n",
       "    <tr>\n",
       "      <th>4</th>\n",
       "      <td>4/6/2019</td>\n",
       "      <td>9184</td>\n",
       "    </tr>\n",
       "  </tbody>\n",
       "</table>\n",
       "</div>"
      ],
      "text/plain": [
       "    ReadDate  GBUsed\n",
       "0  4/10/2019    9193\n",
       "1   4/9/2019    9184\n",
       "2   4/8/2019    9183\n",
       "3   4/7/2019    9183\n",
       "4   4/6/2019    9184"
      ]
     },
     "execution_count": 29,
     "metadata": {},
     "output_type": "execute_result"
    }
   ],
   "source": [
    "data = pd.read_csv('DiskReads.csv')\n",
    "data.head()"
   ]
  },
  {
   "cell_type": "markdown",
   "metadata": {},
   "source": [
    "Dates can prove problematic for machine learning. An effective approach in this example is to convert a date to an integer value where:\n",
    "\n",
    "- Zero is today\n",
    "- A negative integer corresponds to the number of days in the past\n",
    "- A positive integer corresponds to the number of days in the future\n",
    "\n",
    "Using the datetime libary, we can calculate these integer values."
   ]
  },
  {
   "cell_type": "code",
   "execution_count": 20,
   "metadata": {},
   "outputs": [
    {
     "data": {
      "text/html": [
       "<div>\n",
       "<style scoped>\n",
       "    .dataframe tbody tr th:only-of-type {\n",
       "        vertical-align: middle;\n",
       "    }\n",
       "\n",
       "    .dataframe tbody tr th {\n",
       "        vertical-align: top;\n",
       "    }\n",
       "\n",
       "    .dataframe thead th {\n",
       "        text-align: right;\n",
       "    }\n",
       "</style>\n",
       "<table border=\"1\" class=\"dataframe\">\n",
       "  <thead>\n",
       "    <tr style=\"text-align: right;\">\n",
       "      <th></th>\n",
       "      <th>ReadDate</th>\n",
       "      <th>GBUsed</th>\n",
       "      <th>DaysBack</th>\n",
       "    </tr>\n",
       "  </thead>\n",
       "  <tbody>\n",
       "    <tr>\n",
       "      <th>0</th>\n",
       "      <td>4/10/2019</td>\n",
       "      <td>9193</td>\n",
       "      <td>0</td>\n",
       "    </tr>\n",
       "    <tr>\n",
       "      <th>1</th>\n",
       "      <td>4/9/2019</td>\n",
       "      <td>9184</td>\n",
       "      <td>-1</td>\n",
       "    </tr>\n",
       "    <tr>\n",
       "      <th>2</th>\n",
       "      <td>4/8/2019</td>\n",
       "      <td>9183</td>\n",
       "      <td>-2</td>\n",
       "    </tr>\n",
       "    <tr>\n",
       "      <th>3</th>\n",
       "      <td>4/7/2019</td>\n",
       "      <td>9183</td>\n",
       "      <td>-3</td>\n",
       "    </tr>\n",
       "    <tr>\n",
       "      <th>4</th>\n",
       "      <td>4/6/2019</td>\n",
       "      <td>9184</td>\n",
       "      <td>-4</td>\n",
       "    </tr>\n",
       "  </tbody>\n",
       "</table>\n",
       "</div>"
      ],
      "text/plain": [
       "    ReadDate  GBUsed  DaysBack\n",
       "0  4/10/2019    9193         0\n",
       "1   4/9/2019    9184        -1\n",
       "2   4/8/2019    9183        -2\n",
       "3   4/7/2019    9183        -3\n",
       "4   4/6/2019    9184        -4"
      ]
     },
     "execution_count": 20,
     "metadata": {},
     "output_type": "execute_result"
    }
   ],
   "source": [
    "from datetime import date, datetime, timedelta\n",
    "# Calculate the delta\n",
    "delta = date.today() - pd.to_datetime(data['ReadDate'])\n",
    "# Add a new column to our data frame\n",
    "data['DaysBack'] = delta.dt.days * -1\n",
    "\n",
    "data.head()"
   ]
  },
  {
   "cell_type": "markdown",
   "metadata": {},
   "source": [
    "### Model Fit and Scoring\n",
    "\n",
    "With the data in an appropriate format, we can fit and score our model."
   ]
  },
  {
   "cell_type": "code",
   "execution_count": 21,
   "metadata": {},
   "outputs": [
    {
     "data": {
      "text/plain": [
       "0.9953653065132457"
      ]
     },
     "execution_count": 21,
     "metadata": {},
     "output_type": "execute_result"
    }
   ],
   "source": [
    "# Assign the appropriate columns\n",
    "X = data['DaysBack'].values.reshape(-1,1)\n",
    "y = data['GBUsed'].values\n",
    "\n",
    "# Train test split\n",
    "X_train, X_test, y_train, y_test = train_test_split(X, y, test_size=0.2)\n",
    "\n",
    "# Fit a linear regression model\n",
    "lm = linear_model.LinearRegression()  \n",
    "lm.fit(X_train, y_train)\n",
    "\n",
    "# Score the model on the test data\n",
    "lm.score(X_test,y_test)"
   ]
  },
  {
   "cell_type": "markdown",
   "metadata": {},
   "source": [
    "A linear regression scores very well on this example.  Graphing our data and the model we can see that this database has very consistent an predictable growth."
   ]
  },
  {
   "cell_type": "code",
   "execution_count": 22,
   "metadata": {
    "scrolled": true
   },
   "outputs": [
    {
     "data": {
      "image/png": "[encoded data removed]",
      "text/plain": [
       "<Figure size 432x288 with 1 Axes>"
      ]
     },
     "metadata": {
      "needs_background": "light"
     },
     "output_type": "display_data"
    }
   ],
   "source": [
    "plt.plot(X, y, 'o')\n",
    "plt.plot(X, lm.coef_ * X + lm.intercept_, '-', color='red', label='Trend')\n",
    "plt.show()"
   ]
  },
  {
   "cell_type": "markdown",
   "metadata": {},
   "source": [
    "Now a prediction can be made about when the database will completely fill the data drive on the server.  The drive in question is 10TB.\n",
    "\n",
    "Utilizing the equation for a line, instead of solving for y we will solve for x, where:\n",
    "- **x** corresponds to the day we will hit capacity based on current growth rate\n",
    "- **y** corresponds to drive capacity in GB\n",
    "- **m** is the slope of our regression line, provided by the model via *lm.coef_*\n",
    "- **b** is the intercept of the regression line, also provided by the model via *lm.intercept_*"
   ]
  },
  {
   "cell_type": "code",
   "execution_count": 26,
   "metadata": {},
   "outputs": [
    {
     "name": "stdout",
     "output_type": "stream",
     "text": [
      "Days Until Capacity: [140.76224326]\n",
      "Reach Capacity On:  2019-08-28\n"
     ]
    }
   ],
   "source": [
    "# The database drive is 10TB\n",
    "drive_capacity = 10000\n",
    "\n",
    "# Instead of solving for y, solve for x\n",
    "# y = mx + b\n",
    "# x = (y - b) / m\n",
    "days_until_capacity = (drive_capacity - lm.intercept_) / lm.coef_\n",
    "\n",
    "# days_until_capacity is the number of days until we hit drive capacity\n",
    "print (\"Days Until Capacity:\", days_until_capacity)\n",
    "\n",
    "# Perform a time delta to determine the calendar date\n",
    "capacity_date = date.today() + timedelta(days=days_until_capacity[0])\n",
    "print (\"Reach Capacity On: \", capacity_date)\n"
   ]
  },
  {
   "cell_type": "markdown",
   "metadata": {},
   "source": [
    "We will reach drive capacity in 140 days, which corresponds to August 28th, 2019.  We can now plot the data, model, and the predicted day we will reach capacity."
   ]
  },
  {
   "cell_type": "code",
   "execution_count": 27,
   "metadata": {},
   "outputs": [
    {
     "data": {
      "image/png": "[encoded data removed]",
      "text/plain": [
       "<Figure size 432x288 with 1 Axes>"
      ]
     },
     "metadata": {
      "needs_background": "light"
     },
     "output_type": "display_data"
    }
   ],
   "source": [
    "plt.plot(X,y, 'o')\n",
    "plt.plot(X, lm.coef_ * X + lm.intercept_, '-', color='red', label='Trend')\n",
    "plt.plot(days_until_capacity, drive_capacity, 'x', color='green')\n",
    "plt.show()"
   ]
  },
  {
   "cell_type": "markdown",
   "metadata": {},
   "source": [
    "### Conclusion\n",
    "\n",
    "Using machine learning we can automatically trend database growth and calculate future resource needs.  Using machine learning has several advantages over manually viewing growth charts including scalability, efficiency, and consistency.\n",
    "\n",
    "Next steps:\n",
    "\n",
    "- Remove the CSV file from the pipeline and connect directly to an enterprise metrics database\n",
    "- Loop through an inventory of servers (and drives) and fit a model to each drive\n",
    "- Filter the output of this application, showing only high scoring models with upcoming capacity concerns"
   ]
  }
 ],
 "metadata": {
  "kernelspec": {
   "display_name": "Python 3",
   "language": "python",
   "name": "python3"
  },
  "language_info": {
   "codemirror_mode": {
    "name": "ipython",
    "version": 3
   },
   "file_extension": ".py",
   "mimetype": "text/x-python",
   "name": "python",
   "nbconvert_exporter": "python",
   "pygments_lexer": "ipython3",
   "version": "3.4.9"
  }
 },
 "nbformat": 4,
 "nbformat_minor": 2
}
